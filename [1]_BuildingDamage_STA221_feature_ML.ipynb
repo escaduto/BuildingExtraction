{
  "nbformat": 4,
  "nbformat_minor": 0,
  "metadata": {
    "colab": {
      "name": "[1]_BuildingDamage_STA221_feature_ML.ipynb",
      "provenance": [],
      "collapsed_sections": [],
      "toc_visible": true,
      "include_colab_link": true
    },
    "kernelspec": {
      "name": "python3",
      "display_name": "Python 3"
    }
  },
  "cells": [
    {
      "cell_type": "markdown",
      "metadata": {
        "id": "view-in-github",
        "colab_type": "text"
      },
      "source": [
        "<a href=\"https://colab.research.google.com/github/escaduto/BuildingExtraction/blob/master/%5B1%5D_BuildingDamage_STA221_feature_ML.ipynb\" target=\"_parent\"><img src=\"https://colab.research.google.com/assets/colab-badge.svg\" alt=\"Open In Colab\"/></a>"
      ]
    },
    {
      "cell_type": "markdown",
      "metadata": {
        "id": "zGPK3KaMQzZh",
        "colab_type": "text"
      },
      "source": [
        "#Comparative Assessment of Building Damage from High-Resolution Satellite-Based Images \n",
        "\n",
        "Erica Scaduto (escaduto@ucdavis.edu), Yuhan Huang (yuhhuang@ucdavis.edu)"
      ]
    },
    {
      "cell_type": "markdown",
      "metadata": {
        "id": "DAY54qskkcy_",
        "colab_type": "text"
      },
      "source": [
        "The automatic extraction and evaluation of building damage by natural hazards can aid in assessing risk management and mapping distributions of urban vulnerability. Although wildfire is a common and critical natural disaster posing significant threats, constrained by the methods and data quality, most previous studies only focused on large-scale disasters. Deriving a reliable and efficient building extraction and damage classification method has presented challenges due to regional differences in development type (e.g. rural vs metropolitan), as well as the sheer varieties in building characteristics (i.e. color, shape, materials). In this project, we intend to compare different machine learning algorithms for image classification to develop a general framework for fire-induced building damage evaluation from high-resolution remotely sensed images.\n",
        "\n",
        "<br>Our results show machine learning models, based on spectral, texture, and convolutional features, have promising utility in the applications for post-fire building-damage monitoring. For the binary classification scheme, the Random Forest (RF) classifier performed the best with an overall accuracy of 93% with a kappa of 0.73. For the multiclass scheme (i.e without vegetation mask), XGBoost performed better than the 5-layer neural networks. It is able to detect building areas but is less accurate in predicting damage when compared with the binary case. Feature engineering also proved to be an essential step in model building. Particularly, the addition of SNIC segmentation which greatly aided in the improvement of overall model performance for both RF and XGBoost classifiers. \n",
        "\n",
        "<br>Main Pipeline:\n",
        "<br>**Data Preprocessing**: As both XView building annotations and NAIP images include geograohic information, XView data was converted to shapefiles to filter out corresponding NAIP images in the same location through GEE API. Both pre-fire and post-fire images were used. \n",
        "<br>**Feature Engineering:** Based on the four channels of NAIP images, features were further calculated through band math, convolutoinal filters and unsupervised methods. \n",
        "<br>**Classification Model:** Decision tree, SVM, random forest, xgboost, and simple neural networks were built to test their predictability of buliding damage types. The dicision tree, SVM, and random forest were run directly on the server provided by GEE API. XGBoost and neural net were run locally on images extracted through GEE from Google Colab. \n",
        "<br>**Model Evaluation**"
      ]
    },
    {
      "cell_type": "markdown",
      "metadata": {
        "id": "HsdrkVZ5ki3l",
        "colab_type": "text"
      },
      "source": [
        "## Table of Content\n",
        "(1) __Preprocessing XView Data__ (See file: 0_BuildingDamage_STA221_preprocessing.ipynb): extract geographic coordinates and fire-related annotations as geojson and shapefilesfrom XView json files\n",
        "<br>(2) __Set up__: Load API and packages. Connect to Google Drive, GEE API, and load annotations\n",
        "<br>(3) __Visualize Dataset__: use GEE API and leaflet to visualize ground truth labels and acquire NAIP images based on the locations of these labels\n",
        "<br>(4) __Vegetation Indices and Texture FEatures__: calculate several useful features for classification, including remote sensing indices, texture metrics, and some layers filtered by convolutional filters\n",
        "<br>(5) __Unsupervised Clustering Features__: use unsupervised methods to get clusters, superpixels, or segmentations as features\n",
        "<br>(6) __Image Extraction__: using the extent of buildings with the same image id as the boundary to extract NAIP images from the API. \n",
        "<br>(7) __Supervised Classification (server-end)__: GEE provide some fuctions for machine learning method (*Decision Tree, SVM, and Random Forest*) to do the classification directly on its server. Test these methods on the NAIP images and summarize their results\n",
        "<br>(8) __Supervised Classificatoin (client-end, XGBoost)__: See notebook *BuildingProj_XGBoost*. \n",
        "<br>(9) __Supervised Classification (client-end, Simple Neural Network)__: See notebook *BuildingProj_NN*. \n"
      ]
    },
    {
      "cell_type": "markdown",
      "metadata": {
        "id": "ltBQRZhyRAK0",
        "colab_type": "text"
      },
      "source": [
        "## Dataset: \n",
        "- Building Annotations from XView\n",
        "- NAIP (National Agriculture Imagery Program) aerial photos (resolution: 0.6 meter)"
      ]
    },
    {
      "cell_type": "markdown",
      "metadata": {
        "id": "TJgvS7vgRDJE",
        "colab_type": "text"
      },
      "source": [
        "### XView Annotations\n",
        "- Labels for two fire events in 2017: Santa Rosa & South CA fires  (geographic coordinates only)\n",
        "![alt text](https://miro.medium.com/max/1200/1*0KCxmxuLX_CAol-xOBmG5w.jpeg)\n",
        "\n",
        "\n"
      ]
    },
    {
      "cell_type": "markdown",
      "metadata": {
        "id": "UBO8yt1TREXt",
        "colab_type": "text"
      },
      "source": [
        "### NAIP images (acquired from GEE API)\n",
        "- RGB, Near Infrared\n",
        "- both pre- and post- fire images\n",
        "\n",
        "![alt text](data:image/jpeg;base64,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)"
      ]
    },
    {
      "cell_type": "markdown",
      "metadata": {
        "id": "y5E6ssk7lDxr",
        "colab_type": "text"
      },
      "source": [
        "## Setting Up\n",
        "\n",
        "The following steps below will (1) mount the colab to the appropriate drive directory (2) Load the training and tes datasets (3) connect to GEE API and load the data as GEE Assets"
      ]
    },
    {
      "cell_type": "markdown",
      "metadata": {
        "id": "VidR_9pSN4di",
        "colab_type": "text"
      },
      "source": [
        "### Connect to Drive & Set Directory"
      ]
    },
    {
      "cell_type": "code",
      "metadata": {
        "id": "BF4nkBgBR5W9",
        "colab_type": "code",
        "colab": {
          "base_uri": "https://localhost:8080/",
          "height": 139
        },
        "outputId": "f80e987d-09e2-47cc-b0ad-48dd08324827"
      },
      "source": [
        "from google.colab import drive # import drive from google colab\n",
        "ROOT = \"/content/drive\"     # default location for the drive\n",
        "print(ROOT)                 # print content of ROOT (Optional)\n",
        "\n",
        "drive.mount(ROOT)           # we mount the google drive at /content/drive"
      ],
      "execution_count": null,
      "outputs": [
        {
          "output_type": "stream",
          "text": [
            "/content/drive\n",
            "Go to this URL in a browser: https://accounts.google.com/o/oauth2/auth?client_id=947318989803-6bn6qk8qdgf4n4g3pfee6491hc0brc4i.apps.googleusercontent.com&redirect_uri=urn%3aietf%3awg%3aoauth%3a2.0%3aoob&response_type=code&scope=email%20https%3a%2f%2fwww.googleapis.com%2fauth%2fdocs.test%20https%3a%2f%2fwww.googleapis.com%2fauth%2fdrive%20https%3a%2f%2fwww.googleapis.com%2fauth%2fdrive.photos.readonly%20https%3a%2f%2fwww.googleapis.com%2fauth%2fpeopleapi.readonly\n",
            "\n",
            "Enter your authorization code:\n",
            "··········\n",
            "Mounted at /content/drive\n"
          ],
          "name": "stdout"
        }
      ]
    },
    {
      "cell_type": "code",
      "metadata": {
        "id": "RHWwCh03SDet",
        "colab_type": "code",
        "colab": {
          "base_uri": "https://localhost:8080/",
          "height": 51
        },
        "outputId": "f60f5dba-38e1-478d-eb45-9cf1034120d6"
      },
      "source": [
        "%cd \"/content/drive/My Drive/STA221_FinalProj\"\n",
        "%ls \"./Data/FireDataset/train\"\n",
        "\n",
        "import os\n",
        "rootPath = '/content/drive/My Drive/STA221_FinalProj'\n",
        "os.chdir(rootPath)"
      ],
      "execution_count": null,
      "outputs": [
        {
          "output_type": "stream",
          "text": [
            "/content/drive/.shortcut-targets-by-id/1xQURupjEB6eidd-IqFW8qhj4FjXXQz8r/STA221_FinalProj\n",
            "\u001b[0m\u001b[01;34msanta-rosa-wildfire\u001b[0m/  \u001b[01;34msocal-fire\u001b[0m/\n"
          ],
          "name": "stdout"
        }
      ]
    },
    {
      "cell_type": "markdown",
      "metadata": {
        "id": "IDkoc4k6OCkZ",
        "colab_type": "text"
      },
      "source": [
        "### Load Data"
      ]
    },
    {
      "cell_type": "code",
      "metadata": {
        "id": "tU9C-qfuVX7H",
        "colab_type": "code",
        "colab": {
          "base_uri": "https://localhost:8080/",
          "height": 462
        },
        "outputId": "8f96e9b8-2928-4b74-a887-351ad3c214f1"
      },
      "source": [
        "# install dependencies and packages \n",
        "! pip install geopandas"
      ],
      "execution_count": null,
      "outputs": [
        {
          "output_type": "stream",
          "text": [
            "Collecting geopandas\n",
            "\u001b[?25l  Downloading https://files.pythonhosted.org/packages/83/c5/3cf9cdc39a6f2552922f79915f36b45a95b71fd343cfc51170a5b6ddb6e8/geopandas-0.7.0-py2.py3-none-any.whl (928kB)\n",
            "\u001b[K     |████████████████████████████████| 931kB 2.9MB/s \n",
            "\u001b[?25hCollecting fiona\n",
            "\u001b[?25l  Downloading https://files.pythonhosted.org/packages/ec/20/4e63bc5c6e62df889297b382c3ccd4a7a488b00946aaaf81a118158c6f09/Fiona-1.8.13.post1-cp36-cp36m-manylinux1_x86_64.whl (14.7MB)\n",
            "\u001b[K     |████████████████████████████████| 14.7MB 299kB/s \n",
            "\u001b[?25hRequirement already satisfied: shapely in /usr/local/lib/python3.6/dist-packages (from geopandas) (1.7.0)\n",
            "Collecting pyproj>=2.2.0\n",
            "\u001b[?25l  Downloading https://files.pythonhosted.org/packages/e5/c3/071e080230ac4b6c64f1a2e2f9161c9737a2bc7b683d2c90b024825000c0/pyproj-2.6.1.post1-cp36-cp36m-manylinux2010_x86_64.whl (10.9MB)\n",
            "\u001b[K     |████████████████████████████████| 10.9MB 45.8MB/s \n",
            "\u001b[?25hRequirement already satisfied: pandas>=0.23.0 in /usr/local/lib/python3.6/dist-packages (from geopandas) (1.0.4)\n",
            "Requirement already satisfied: attrs>=17 in /usr/local/lib/python3.6/dist-packages (from fiona->geopandas) (19.3.0)\n",
            "Collecting munch\n",
            "  Downloading https://files.pythonhosted.org/packages/cc/ab/85d8da5c9a45e072301beb37ad7f833cd344e04c817d97e0cc75681d248f/munch-2.5.0-py2.py3-none-any.whl\n",
            "Requirement already satisfied: six>=1.7 in /usr/local/lib/python3.6/dist-packages (from fiona->geopandas) (1.12.0)\n",
            "Collecting click-plugins>=1.0\n",
            "  Downloading https://files.pythonhosted.org/packages/e9/da/824b92d9942f4e472702488857914bdd50f73021efea15b4cad9aca8ecef/click_plugins-1.1.1-py2.py3-none-any.whl\n",
            "Requirement already satisfied: click<8,>=4.0 in /usr/local/lib/python3.6/dist-packages (from fiona->geopandas) (7.1.2)\n",
            "Collecting cligj>=0.5\n",
            "  Downloading https://files.pythonhosted.org/packages/e4/be/30a58b4b0733850280d01f8bd132591b4668ed5c7046761098d665ac2174/cligj-0.5.0-py3-none-any.whl\n",
            "Requirement already satisfied: python-dateutil>=2.6.1 in /usr/local/lib/python3.6/dist-packages (from pandas>=0.23.0->geopandas) (2.8.1)\n",
            "Requirement already satisfied: numpy>=1.13.3 in /usr/local/lib/python3.6/dist-packages (from pandas>=0.23.0->geopandas) (1.18.5)\n",
            "Requirement already satisfied: pytz>=2017.2 in /usr/local/lib/python3.6/dist-packages (from pandas>=0.23.0->geopandas) (2018.9)\n",
            "Installing collected packages: munch, click-plugins, cligj, fiona, pyproj, geopandas\n",
            "Successfully installed click-plugins-1.1.1 cligj-0.5.0 fiona-1.8.13.post1 geopandas-0.7.0 munch-2.5.0 pyproj-2.6.1.post1\n"
          ],
          "name": "stdout"
        }
      ]
    },
    {
      "cell_type": "code",
      "metadata": {
        "id": "474vsZBMUsDD",
        "colab_type": "code",
        "colab": {}
      },
      "source": [
        "import numpy as np\n",
        "import pandas as pd\n",
        "import geopandas as gpd"
      ],
      "execution_count": null,
      "outputs": []
    },
    {
      "cell_type": "code",
      "metadata": {
        "id": "2aTL_1kuVHIJ",
        "colab_type": "code",
        "colab": {}
      },
      "source": [
        "def lstFiles(rootPath, ext):\n",
        "  '''\n",
        "  retrieve file path + names based on extension\n",
        "  '''\n",
        "  file_list = []\n",
        "  root = rootPath\n",
        "  for path, subdirs, files in os.walk(root):\n",
        "      for names in files: \n",
        "          if names.endswith(ext) and not names.startswith(\"._\"):\n",
        "              file_list.append(path  +\"/\" + names)\n",
        "  return(file_list)\n",
        "\n",
        "def createFolder(rootPath, folderName): \n",
        "  '''\n",
        "  Create new folder in root path \n",
        "  '''\n",
        "  folderPath = os.path.join(rootPath, folderName) \n",
        "  if not os.path.exists(folderPath):\n",
        "      os.makedirs(folderPath)\n",
        "  return folderPath + \"/\" "
      ],
      "execution_count": null,
      "outputs": []
    },
    {
      "cell_type": "code",
      "metadata": {
        "id": "53cGx6aDh0L9",
        "colab_type": "code",
        "colab": {}
      },
      "source": [
        "merged_path = \"./Data/FireDataset/merged_shp\"\n",
        "merged_files = lstFiles(merged_path, '.shp')\n",
        "\n",
        "train_shp = merged_files[0]\n",
        "test_shp = merged_files[1]"
      ],
      "execution_count": null,
      "outputs": []
    },
    {
      "cell_type": "code",
      "metadata": {
        "id": "XlTHnmMpvHf8",
        "colab_type": "code",
        "colab": {}
      },
      "source": [
        "from pyproj import CRS\n",
        "\n",
        "def subsetData(dataPath, path, outfolder): \n",
        "  '''(1) Subset training dataset w/Santa Rosa (post fire) & Socal (pre fire) ** since NAIP doesnt reflect post fire damage \n",
        "     (2) combine \n",
        "     (3) Remove any unclassified classes\n",
        "     (4) Convert factor classes 'damage' to int (no-damage:0, minor-damage:1, destroyed:3)\n",
        "     (5) output to folder in rootpath\n",
        "  '''\n",
        "  gdf = gpd.read_file(dataPath)\n",
        "  santaRosa = gdf[(gdf['location_n'] == 'santa-rosa-wildfire') & (gdf['pre_post_d'] == 'post')] \n",
        "  socal = gdf[(gdf['location_n'] == 'socal-fire') & (gdf['pre_post_d'] == 'pre')]\n",
        "  joined_all = gpd.GeoDataFrame( pd.concat( [santaRosa, socal], ignore_index=True) )\n",
        "  joined_all = joined_all[(joined_all['damage'] != 'unclassified') & (joined_all['damage'] != 'un-classified')] \n",
        "  joined_all['class'] = np.where(joined_all['damage']== 'no-damage', 0,1) \n",
        "  joined_all.crs = \"EPSG:4326\"\n",
        "  outPath = createFolder(path, outfolder)\n",
        "  joined_all.to_file(os.path.join(outPath, outfolder + '.shp'))\n",
        "  return joined_all"
      ],
      "execution_count": null,
      "outputs": []
    },
    {
      "cell_type": "code",
      "metadata": {
        "id": "2GDkl7uJxujj",
        "colab_type": "code",
        "colab": {}
      },
      "source": [
        "path = \"Data/FireDataset/merged_shp\"\n",
        "\n",
        "trainDF = subsetData(train_shp, path, 'train_filt')\n",
        "testDF = subsetData(test_shp, path, 'test_filt')"
      ],
      "execution_count": null,
      "outputs": []
    },
    {
      "cell_type": "code",
      "metadata": {
        "id": "_kLlhD5jgroH",
        "colab_type": "code",
        "colab": {
          "base_uri": "https://localhost:8080/",
          "height": 51
        },
        "outputId": "8e74c4e8-2aef-48af-b3d1-bd8d4db84cab"
      },
      "source": [
        "print(len(trainDF[trainDF['class'] == 0]), len(trainDF[trainDF['class'] == 1]),len(trainDF))\n",
        "print(len(testDF[testDF['class'] == 0]), len(testDF[testDF['class'] == 1]), len(testDF))"
      ],
      "execution_count": null,
      "outputs": [
        {
          "output_type": "stream",
          "text": [
            "19760 3612 23372\n",
            "7494 992 8486\n"
          ],
          "name": "stdout"
        }
      ]
    },
    {
      "cell_type": "markdown",
      "metadata": {
        "id": "Ag6HtRJpNNWC",
        "colab_type": "text"
      },
      "source": [
        "### Connect to GEE API & Load Asset"
      ]
    },
    {
      "cell_type": "code",
      "metadata": {
        "id": "9P_WfKSZNbJ4",
        "colab_type": "code",
        "colab": {
          "base_uri": "https://localhost:8080/",
          "height": 258
        },
        "outputId": "dcf62a9c-5a43-4c79-8424-c52defe5208f"
      },
      "source": [
        "# initialize and connect to GEE \n",
        "from google.colab import auth\n",
        "auth.authenticate_user()\n",
        "!earthengine authenticate\n",
        "import ee \n",
        "ee.Initialize()"
      ],
      "execution_count": null,
      "outputs": [
        {
          "output_type": "stream",
          "text": [
            "WARNING:tensorflow:From /usr/local/lib/python3.6/dist-packages/tensorflow/python/compat/v2_compat.py:96: disable_resource_variables (from tensorflow.python.ops.variable_scope) is deprecated and will be removed in a future version.\n",
            "Instructions for updating:\n",
            "non-resource variables are not supported in the long term\n",
            "Running command using Cloud API.  Set --no-use_cloud_api to go back to using the API\n",
            "\n",
            "To authorize access needed by Earth Engine, open the following URL in a web browser and follow the instructions. If the web browser does not start automatically, please manually browse the URL below.\n",
            "\n",
            "    https://accounts.google.com/o/oauth2/auth?client_id=517222506229-vsmmajv00ul0bs7p89v5m89qs8eb9359.apps.googleusercontent.com&scope=https%3A%2F%2Fwww.googleapis.com%2Fauth%2Fearthengine+https%3A%2F%2Fwww.googleapis.com%2Fauth%2Fdevstorage.full_control&redirect_uri=urn%3Aietf%3Awg%3Aoauth%3A2.0%3Aoob&response_type=code&code_challenge=D9-c3gX87rOfPDvTgEClmxOH7k0uGrHJSy5yIhw8g7Y&code_challenge_method=S256\n",
            "\n",
            "The authorization workflow will generate a code, which you should paste in the box below. \n",
            "Enter verification code: 4/0wFo7cOCcbd2ehrBb70TeVsqL5OStlVImYGpxHQhb500ubIkhh58WlM\n",
            "\n",
            "Successfully saved authorization token.\n"
          ],
          "name": "stdout"
        }
      ]
    },
    {
      "cell_type": "code",
      "metadata": {
        "id": "OaUQbtDpNbPB",
        "colab_type": "code",
        "colab": {
          "base_uri": "https://localhost:8080/",
          "height": 34
        },
        "outputId": "af4adca6-1218-4f93-ee22-1a9401ccda15"
      },
      "source": [
        "# Installs geemap package\n",
        "import subprocess\n",
        "\n",
        "try:\n",
        "    import geemap\n",
        "except ImportError:\n",
        "    print('geemap package not installed. Installing ...')\n",
        "    subprocess.check_call([\"python\", '-m', 'pip', 'install', 'geemap'])\n",
        "\n",
        "# Checks whether this notebook is running on Google Colab\n",
        "try:\n",
        "    import google.colab\n",
        "    import geemap.eefolium as emap\n",
        "except:\n",
        "    import geemap as emap"
      ],
      "execution_count": null,
      "outputs": [
        {
          "output_type": "stream",
          "text": [
            "geemap package not installed. Installing ...\n"
          ],
          "name": "stdout"
        }
      ]
    },
    {
      "cell_type": "code",
      "metadata": {
        "id": "Omn5x960NbTD",
        "colab_type": "code",
        "colab": {}
      },
      "source": [
        "# Connect to google cloud \n",
        "! gcloud auth login"
      ],
      "execution_count": null,
      "outputs": []
    },
    {
      "cell_type": "code",
      "metadata": {
        "id": "KRQVo6SlNjuU",
        "colab_type": "code",
        "colab": {}
      },
      "source": [
        "# export files hosted in cloud bucket as assets to GEE \n",
        "# needed to set up a bucket in google cloud: gs://esca_bucket\n",
        "! earthengine upload table --asset_id=users/escaduto/XVIEW_newtraining gs://esca_bucket/train_filt/train_filt.shp\n",
        "! earthengine upload table --asset_id=users/escaduto/XVIEW_newtesting gs://esca_bucket/test_filt/test_filt.shp"
      ],
      "execution_count": null,
      "outputs": []
    },
    {
      "cell_type": "code",
      "metadata": {
        "id": "R7eUf89nNkvK",
        "colab_type": "code",
        "colab": {}
      },
      "source": [
        "# import feature collection asset \n",
        "train_data = ee.FeatureCollection('users/escaduto/XVIEW_newtraining')\n",
        "test_data = ee.FeatureCollection('users/escaduto/XVIEW_newtesting')"
      ],
      "execution_count": null,
      "outputs": []
    },
    {
      "cell_type": "markdown",
      "metadata": {
        "id": "gpm0jmD5Cmqb",
        "colab_type": "text"
      },
      "source": [
        "## Interactively Visualize Dataset w/ GEE API & leaflet\n",
        "\n",
        "The annotated test/train xView dataset were read as feature collections via the GEE API. Now, we want to visualize the building footprints and identify which ones are classified as damaged vs non-damaged. To best do this, we will utilize an interactive mapping tool to directly load the data into the notebook."
      ]
    },
    {
      "cell_type": "markdown",
      "metadata": {
        "id": "c4exh8HqOii2",
        "colab_type": "text"
      },
      "source": [
        "### Building Geometry w/ Attributes"
      ]
    },
    {
      "cell_type": "code",
      "metadata": {
        "id": "LPiOoT_B80RH",
        "colab_type": "code",
        "colab": {
          "base_uri": "https://localhost:8080/",
          "height": 627
        },
        "outputId": "ee6b32f0-4c5b-40fe-d6bc-567d7a24ebe7"
      },
      "source": [
        "def visualizeByAttribute(fc, className): \n",
        "  '''\n",
        "  visualize building polygon based on damage type 'class' (0,1) \n",
        "  '''   \n",
        "  empty = ee.Image().byte()\n",
        "  feature = empty.paint(**{\n",
        "    'featureCollection': fc,\n",
        "    'color': className,\n",
        "    'width': 1\n",
        "  })\n",
        "  return feature\n",
        "\n",
        "train_palette = ['green', # no-damage (0)\n",
        "                 'red' # destroyed (1) \n",
        "                 ]\n",
        "test_palette = ['yellow', # no-damage(0)\n",
        "                'blue' # destroyed (1) \n",
        "                ]\n",
        "\n",
        "Map = emap.Map(center=[38.50178453635526,-122.74843617724784], zoom=16)\n",
        "Map.addLayer(visualizeByAttribute(train_data, 'class'), {'palette': train_palette, 'min': 0, 'max':1}, 'train')\n",
        "Map.addLayer(visualizeByAttribute(test_data, 'class'), {'palette': test_palette,'min': 0, 'max':1}, 'test')\n",
        "Map.addLayerControl()\n",
        "Map"
      ],
      "execution_count": null,
      "outputs": [
        {
          "output_type": "execute_result",
          "data": {
            "text/html": [
              "<div style=\"width:100%;\"><div style=\"position:relative;width:100%;height:0;padding-bottom:60%;\"><span style=\"color:#565656\">Make this Notebook Trusted to load map: File -> Trust Notebook</span><iframe src=\"about:blank\" style=\"position:absolute;width:100%;height:100%;left:0;top:0;border:none !important;\" data-html=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 onload=\"this.contentDocument.open();this.contentDocument.write(atob(this.getAttribute('data-html')));this.contentDocument.close();\" allowfullscreen webkitallowfullscreen mozallowfullscreen></iframe></div></div>"
            ],
            "text/plain": [
              "<geemap.eefolium.Map at 0x7ff7f6c4a5c0>"
            ]
          },
          "metadata": {
            "tags": []
          },
          "execution_count": 11
        }
      ]
    },
    {
      "cell_type": "markdown",
      "metadata": {
        "id": "hbJBMGCgf0ZC",
        "colab_type": "text"
      },
      "source": [
        "## Load NAIP Imagery\n",
        "\n",
        "Another crucial step before we can get started is to load the NAIP imagery from GEE. To first do this, we must identify our area of interest, which is the bounding box from the data extent. We will obtain pre-/post- fire imagery and overlay the annotated building footprints on top."
      ]
    },
    {
      "cell_type": "code",
      "metadata": {
        "id": "dMcaRuwAeYFe",
        "colab_type": "code",
        "colab": {}
      },
      "source": [
        "def extract_coords(geom):\n",
        "    '''\n",
        "    takes one polygon from geopandas and converts it to the GEE geometry format\n",
        "    input: geom from each row of the 'geometry' column in the gpd dataframe \n",
        "    output: coordinate list of the GEE geometry\n",
        "    '''\n",
        "    try:\n",
        "        coords=geom.__geo_interface__['coordinates']\n",
        "        geom_extr=[list(map(list,coord)) for coord in coords]\n",
        "        return geom_extr\n",
        "    except:\n",
        "        pass\n",
        "\n",
        "def get_bounds(gdf):\n",
        "    '''\n",
        "    takes a geo data frame get convert its bounding extent to a GEE format rectangle\n",
        "    '''\n",
        "    bounds=gdf.total_bounds\n",
        "    geom_bound=[[ [bounds[0],bounds[1]], [bounds[2],bounds[1]], [bounds[2],bounds[3]], [bounds[0],bounds[3]]]]\n",
        "    return geom_bound"
      ],
      "execution_count": null,
      "outputs": []
    },
    {
      "cell_type": "code",
      "metadata": {
        "id": "IjAAOXJbf5fq",
        "colab_type": "code",
        "colab": {}
      },
      "source": [
        "gdf = gpd.read_file(train_shp)\n",
        "santaRosa = gdf[(gdf['location_n'] == 'santa-rosa-wildfire') & (gdf['pre_post_d'] == 'post')] \n",
        "socal = gdf[(gdf['location_n'] == 'socal-fire') & (gdf['pre_post_d'] == 'pre')]\n",
        "\n",
        "SR_bounds=get_bounds(santaRosa)\n",
        "SC_bounds=get_bounds(socal)"
      ],
      "execution_count": null,
      "outputs": []
    },
    {
      "cell_type": "code",
      "metadata": {
        "id": "7Kv5OkTVf727",
        "colab_type": "code",
        "colab": {}
      },
      "source": [
        "sr_geom=[extract_coords(pol) for pol in santaRosa['geometry']]\n",
        "SR_ROI = ee.Geometry.MultiPolygon(sr_geom)\n",
        "SR_Bound_Box=ee.Geometry.Polygon(SR_bounds)\n",
        "\n",
        "sc_geom=[extract_coords(pol) for pol in socal['geometry']]\n",
        "SC_ROI = ee.Geometry.MultiPolygon(sc_geom)\n",
        "SC_Bound_Box=ee.Geometry.Polygon(SC_bounds)"
      ],
      "execution_count": null,
      "outputs": []
    },
    {
      "cell_type": "code",
      "metadata": {
        "id": "jOTd4N21tLtk",
        "colab_type": "code",
        "colab": {}
      },
      "source": [
        "# combine the bounding boxes from above into feature collection\n",
        "features = [\n",
        "  ee.Feature(SC_Bound_Box),\n",
        "  ee.Feature(SR_Bound_Box)\n",
        "]\n",
        "\n",
        "finalBounds = ee.FeatureCollection(features);"
      ],
      "execution_count": null,
      "outputs": []
    },
    {
      "cell_type": "code",
      "metadata": {
        "id": "YDygMnsUgBGg",
        "colab_type": "code",
        "colab": {}
      },
      "source": [
        "preFire = ee.Image(ee.ImageCollection('USDA/NAIP/DOQQ')\n",
        "                  .filter(ee.Filter.date('2014-01-01', '2015-12-31'))\n",
        "                  .select(['R', 'G', 'B', 'N'])\n",
        "                  .filterBounds(finalBounds)\n",
        "                  .mosaic());\n",
        "                  \n",
        "postFire = ee.Image(ee.ImageCollection('USDA/NAIP/DOQQ')\n",
        "                  .filter(ee.Filter.date('2017-01-01', '2019-12-31'))\n",
        "                  .select(['R', 'G', 'B', 'N'])\n",
        "                  .filterBounds(finalBounds)\n",
        "                  .mosaic());\n",
        "\n",
        "preFire = preFire.clip(finalBounds)\n",
        "postFire = postFire.clip(finalBounds)\n",
        "\n",
        "trueColorVis = {\n",
        "  min: 0.0,\n",
        "  max: 255.0,\n",
        "}"
      ],
      "execution_count": null,
      "outputs": []
    },
    {
      "cell_type": "code",
      "metadata": {
        "id": "OoTGnbSsgWJs",
        "colab_type": "code",
        "colab": {
          "base_uri": "https://localhost:8080/",
          "height": 444
        },
        "outputId": "65ee05ad-f64d-443f-9a18-c04c40961f59"
      },
      "source": [
        "# visualize santa rosa building dataset overlaid on NAIP\n",
        "Map = emap.Map(center=[38.4815,-122.7084], zoom=11)\n",
        "Map.add_basemap('TERRAIN')\n",
        "Map.addLayer(preFire.select(['R', 'G', 'B']), trueColorVis, 'PreFire')\n",
        "Map.addLayer(postFire.select(['R', 'G', 'B']), trueColorVis, 'Postfire')\n",
        "Map.addLayer(finalBounds, {'color': 'white'}, 'bound', True, opacity=0.4)\n",
        "Map.addLayer(visualizeByAttribute(train_data, 'class'), {'palette': train_palette, 'min': 0, 'max':1}, 'train')\n",
        "Map.addLayer(visualizeByAttribute(test_data, 'class'), {'palette': test_palette,'min': 0, 'max':1}, 'test')\n",
        "Map.addLayerControl()\n",
        "Map"
      ],
      "execution_count": null,
      "outputs": [
        {
          "output_type": "execute_result",
          "data": {
            "text/html": [
              "<div style=\"width:100%;\"><div style=\"position:relative;width:100%;height:0;padding-bottom:60%;\"><span style=\"color:#565656\">Make this Notebook Trusted to load map: File -> Trust Notebook</span><iframe src=\"about:blank\" style=\"position:absolute;width:100%;height:100%;left:0;top:0;border:none !important;\" data-html=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 onload=\"this.contentDocument.open();this.contentDocument.write(atob(this.getAttribute('data-html')));this.contentDocument.close();\" allowfullscreen webkitallowfullscreen mozallowfullscreen></iframe></div></div>"
            ],
            "text/plain": [
              "<geemap.eefolium.Map at 0x7fb2fa150ef0>"
            ]
          },
          "metadata": {
            "tags": []
          },
          "execution_count": 18
        }
      ]
    },
    {
      "cell_type": "code",
      "metadata": {
        "id": "ajfUGvg9jB5q",
        "colab_type": "code",
        "colab": {
          "base_uri": "https://localhost:8080/",
          "height": 444
        },
        "outputId": "dc56c226-e6b0-4d4b-f2a4-d91c61d632b0"
      },
      "source": [
        "# visualize socal building dataset overlaid on NAIP\n",
        "Map = emap.Map(center=[34.0922,-118.8058], zoom=11)\n",
        "Map.add_basemap('TERRAIN')\n",
        "Map.addLayer(preFire, trueColorVis, 'PreFire');\n",
        "Map.addLayer(postFire, trueColorVis, 'Postfire');\n",
        "Map.addLayer(finalBounds, {'color': 'white'}, 'Postfire', True, opacity = 0.8);\n",
        "Map.addLayer(visualizeByAttribute(train_data, 'class'), {'palette': train_palette, 'min': 0, 'max':1}, 'train')\n",
        "Map.addLayer(visualizeByAttribute(test_data, 'class'), {'palette': test_palette,'min': 0, 'max':1}, 'test')\n",
        "Map.addLayerControl()\n",
        "Map"
      ],
      "execution_count": null,
      "outputs": [
        {
          "output_type": "execute_result",
          "data": {
            "text/html": [
              "<div style=\"width:100%;\"><div style=\"position:relative;width:100%;height:0;padding-bottom:60%;\"><span style=\"color:#565656\">Make this Notebook Trusted to load map: File -> Trust Notebook</span><iframe src=\"about:blank\" style=\"position:absolute;width:100%;height:100%;left:0;top:0;border:none !important;\" data-html=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 onload=\"this.contentDocument.open();this.contentDocument.write(atob(this.getAttribute('data-html')));this.contentDocument.close();\" allowfullscreen webkitallowfullscreen mozallowfullscreen></iframe></div></div>"
            ],
            "text/plain": [
              "<geemap.eefolium.Map at 0x7fb2fa150390>"
            ]
          },
          "metadata": {
            "tags": []
          },
          "execution_count": 19
        }
      ]
    },
    {
      "cell_type": "markdown",
      "metadata": {
        "id": "JsOB0TIgWIVq",
        "colab_type": "text"
      },
      "source": [
        "## Feature Calculation\n",
        "\n",
        "(1) NDVI: (NIR-R)/(NIR+R)\n",
        "\n",
        "(2) Canny edge detection to extract structural information from different vision objects and dramatically reduce the amount of data to be processed. \n",
        "\n",
        "(3) Bare Soil Index: (R+B-G)/(R+G+B)\n",
        "\n",
        "(4) Shadow Index: $\\sqrt {(256-B)*(256-G)}$\n",
        "\n",
        "(5) Texture Information: GLCM & spatial association of neighborhood\n",
        "\n",
        "(6)  Convolutional filters"
      ]
    },
    {
      "cell_type": "markdown",
      "metadata": {
        "id": "gvBtF2Y7gwmP",
        "colab_type": "text"
      },
      "source": [
        "###NDVI"
      ]
    },
    {
      "cell_type": "code",
      "metadata": {
        "id": "drQUhnMrWNqa",
        "colab_type": "code",
        "colab": {
          "base_uri": "https://localhost:8080/",
          "height": 34
        },
        "outputId": "da0b5b1d-671e-4085-b659-c95d9f49918e"
      },
      "source": [
        "def getNDVI(image):\n",
        "  '''\n",
        "  Add Normalized Differenced Vegetation Index using NIR and Red bands\n",
        "  '''\n",
        "  nir = image.select('N')\n",
        "  red = image.select('R')\n",
        "  ndvi = nir.subtract(red).divide(nir.add(red)).rename('NDVI')\n",
        "  new_image = image.addBands(ndvi)\n",
        "  return new_image\n",
        "\n",
        "preFire = getNDVI(preFire)\n",
        "postFire = getNDVI(postFire)\n",
        "print(preFire.bandNames().getInfo())"
      ],
      "execution_count": null,
      "outputs": [
        {
          "output_type": "stream",
          "text": [
            "['R', 'G', 'B', 'N', 'NDVI']\n"
          ],
          "name": "stdout"
        }
      ]
    },
    {
      "cell_type": "markdown",
      "metadata": {
        "id": "fjmPvRbigy7m",
        "colab_type": "text"
      },
      "source": [
        "### Edge Detection"
      ]
    },
    {
      "cell_type": "code",
      "metadata": {
        "id": "DwxEMDN8WXmw",
        "colab_type": "code",
        "colab": {
          "base_uri": "https://localhost:8080/",
          "height": 34
        },
        "outputId": "07b8bd69-94ff-4726-d015-843634621f07"
      },
      "source": [
        "def edgeDetection(image, band):\n",
        "  '''\n",
        "  Perform Canny edge detection and add to image.\n",
        "  '''\n",
        "  canny = ee.Algorithms.CannyEdgeDetector(**{\n",
        "    'image': image.select(band), 'threshold': 50, 'sigma': 1\n",
        "  })\n",
        "  new_image = image.addBands(canny.rename('edge'))\n",
        "  return new_image\n",
        "\n",
        "\n",
        "preFire = edgeDetection(preFire, 'R')\n",
        "postFire = edgeDetection(postFire, 'R')\n",
        "print(preFire.bandNames().getInfo())\n"
      ],
      "execution_count": null,
      "outputs": [
        {
          "output_type": "stream",
          "text": [
            "['R', 'G', 'B', 'N', 'NDVI', 'edge']\n"
          ],
          "name": "stdout"
        }
      ]
    },
    {
      "cell_type": "markdown",
      "metadata": {
        "id": "kPXPkqMHg3io",
        "colab_type": "text"
      },
      "source": [
        "### Bare Soil Index (BSI)"
      ]
    },
    {
      "cell_type": "code",
      "metadata": {
        "id": "JDpc2J9JfkK8",
        "colab_type": "code",
        "colab": {
          "base_uri": "https://localhost:8080/",
          "height": 34
        },
        "outputId": "379fc0bd-60a4-4170-e61a-a30af06f52e2"
      },
      "source": [
        "def bareSoil(image):\n",
        "  '''\n",
        "  Add Bare Soil Index Index using the Red, Blue, and Green bands\n",
        "  '''\n",
        "  red = image.select('R')\n",
        "  blue = image.select('B')\n",
        "  green = image.select('G')\n",
        "  BSI = red.add(blue).subtract(green).divide(red.add(blue).add(green)).rename('BSI')\n",
        "  new_image = image.addBands(BSI)\n",
        "  return new_image\n",
        "\n",
        "preFire = bareSoil(preFire)\n",
        "postFire = bareSoil(postFire)\n",
        "print(preFire.bandNames().getInfo())"
      ],
      "execution_count": null,
      "outputs": [
        {
          "output_type": "stream",
          "text": [
            "['R', 'G', 'B', 'N', 'NDVI', 'edge', 'BSI']\n"
          ],
          "name": "stdout"
        }
      ]
    },
    {
      "cell_type": "markdown",
      "metadata": {
        "id": "Q-XrQNeWhqEz",
        "colab_type": "text"
      },
      "source": [
        "### Shadow Index"
      ]
    },
    {
      "cell_type": "code",
      "metadata": {
        "id": "b9_lntEQikdK",
        "colab_type": "code",
        "colab": {
          "base_uri": "https://localhost:8080/",
          "height": 34
        },
        "outputId": "44460e07-442a-4366-e361-c22639d0aad2"
      },
      "source": [
        "def shadowIndex(image):\n",
        "  '''\n",
        "  Add Shadow Index using Blue and Green bands\n",
        "  '''\n",
        "  SI = image.expression(\n",
        "      'sqrt((256 - B) * (256 - G))', {\n",
        "        'B': image.select('B'),\n",
        "        'G': image.select('G')\n",
        "  }).rename('SI');\n",
        "  new_image = image.addBands(SI)\n",
        "  return new_image\n",
        "\n",
        "preFire = shadowIndex(preFire)\n",
        "postFire = shadowIndex(postFire)\n",
        "print(preFire.bandNames().getInfo())"
      ],
      "execution_count": null,
      "outputs": [
        {
          "output_type": "stream",
          "text": [
            "['R', 'G', 'B', 'N', 'NDVI', 'edge', 'BSI', 'SI']\n"
          ],
          "name": "stdout"
        }
      ]
    },
    {
      "cell_type": "markdown",
      "metadata": {
        "id": "w9OQYQ7obT1j",
        "colab_type": "text"
      },
      "source": [
        "### Texture\n",
        "Get texture values with NIR band. \n",
        "  (1) compute entropy w. defined neighborhood, \n",
        "  (2) gray-level co-occurence matrix (GLCM) to get contrast,\n",
        "  (3) local Geary's C, measure of spatial association\n",
        "\n",
        "[  source code](https://github.com/giswqs/earthengine-py-notebooks/blob/master/Image/texture.ipynb)"
      ]
    },
    {
      "cell_type": "code",
      "metadata": {
        "id": "On9ogettbVfZ",
        "colab_type": "code",
        "colab": {
          "base_uri": "https://localhost:8080/",
          "height": 34
        },
        "outputId": "e67c25fb-f45b-4a02-9934-f5647b7cb6b7"
      },
      "source": [
        "import math\n",
        "\n",
        "def texture(image):\n",
        "  ''' \n",
        "  Get texture values with NIR band. \n",
        "  (1) compute entropy w. defined neighborhood, \n",
        "  (2) gray-level co-occurence matrix (GLCM) to get contrast,\n",
        "  (3) local Geary's C, measure of spatial association\n",
        "  '''\n",
        "  # Get the NIR band.\n",
        "  nir = image.select('N')\n",
        "  # Define a neighborhood with a kernel.\n",
        "  square = ee.Kernel.square(**{'radius': 4})\n",
        "  # Compute entropy and display.\n",
        "  entropy = nir.entropy(square)\n",
        "  # Compute the gray-level co-occurrence matrix (GLCM), get contrast.\n",
        "  glcm = nir.glcmTexture(**{'size': 4})\n",
        "  contrast = glcm.select('N_contrast')\n",
        "  # Create a list of weights for a 9x9 kernel.\n",
        "  list = [1, 1, 1, 1, 1, 1, 1, 1, 1]\n",
        "  # The center of the kernel is zero.\n",
        "  centerList = [1, 1, 1, 1, 0, 1, 1, 1, 1]\n",
        "  # Assemble a list of lists: the 9x9 kernel weights as a 2-D matrix.\n",
        "  lists = [list, list, list, list, centerList, list, list, list, list]\n",
        "  # Create the kernel from the weights.\n",
        "  # Non-zero weights represent the spatial neighborhood.\n",
        "  kernel = ee.Kernel.fixed(9, 9, lists, -4, -4, False)\n",
        "\n",
        "  # Convert the neighborhood into multiple bands.\n",
        "  neighs = nir.neighborhoodToBands(kernel)\n",
        "\n",
        "  # Compute local Geary's C, a measure of spatial association.\n",
        "  gearys = nir.subtract(neighs).pow(2).reduce(ee.Reducer.sum()) \\\n",
        "             .divide(math.pow(9, 2)).rename('texture');\n",
        "  new_image = image.addBands(gearys)\n",
        "  return new_image\n",
        "\n",
        "preFire = texture(preFire)\n",
        "postFire = texture(postFire)\n",
        "print(preFire.bandNames().getInfo())"
      ],
      "execution_count": null,
      "outputs": [
        {
          "output_type": "stream",
          "text": [
            "['R', 'G', 'B', 'N', 'NDVI', 'edge', 'BSI', 'SI', 'texture']\n"
          ],
          "name": "stdout"
        }
      ]
    },
    {
      "cell_type": "markdown",
      "metadata": {
        "id": "dOzeX7HP3bAn",
        "colab_type": "text"
      },
      "source": [
        "### GLCM Texture\n",
        "\n",
        "GLCM Texture list (selection in bold):\n",
        "- Angular Second Moment: # of repeated pairs\n",
        "- **Contrast**: local contrast \n",
        "- **Correlation**: correlation between pairs of pixels \n",
        "- **Variance**: spreat-out of the Grayscale \n",
        "-**Inverse Difference Moment**: homogeneity\n",
        "- sum average\n",
        "- sum variance\n",
        "- sum entropy\n",
        "- entropy: randomness of the grayscale\n",
        "- difference variance\n",
        "- difference entropy\n",
        "- information measure of correlation 1, 2 , and Max Corr. Coefficient.\n",
        "- **dissimilarity**\n",
        "- inertia\n",
        "- **cluster shade**\n",
        "- cluster prominence"
      ]
    },
    {
      "cell_type": "code",
      "metadata": {
        "id": "JMTtoBYz3aQO",
        "colab_type": "code",
        "colab": {}
      },
      "source": [
        "def glcm_texture(image):\n",
        "    '''\n",
        "    add some texture calculations for each spectral band (contrast and variance only for NIR and Red band)\n",
        "    '''\n",
        "    #average the directional bands\n",
        "    #consider a neighborhood of 4 pixels\n",
        "    texture_img=image.select(['R','G','B','N']).glcmTexture(size=4,average=True)\n",
        "    #select some useful textures :\n",
        "    selection=['N_corr','N_var', 'B_shade','N_shade']\n",
        "    new_image = image.addBands(texture_img.select(selection))\n",
        "    return new_image"
      ],
      "execution_count": null,
      "outputs": []
    },
    {
      "cell_type": "code",
      "metadata": {
        "id": "lI_5RvIM3jXZ",
        "colab_type": "code",
        "colab": {
          "base_uri": "https://localhost:8080/",
          "height": 34
        },
        "outputId": "96ba7d5d-38fe-4b52-c28a-85d9688e174c"
      },
      "source": [
        "preFire = glcm_texture(preFire)\n",
        "postFire = glcm_texture(postFire)\n",
        "print(preFire.bandNames().getInfo())"
      ],
      "execution_count": null,
      "outputs": [
        {
          "output_type": "stream",
          "text": [
            "['R', 'G', 'B', 'N', 'NDVI', 'edge', 'BSI', 'SI', 'texture', 'N_corr', 'N_var', 'B_shade', 'N_shade']\n"
          ],
          "name": "stdout"
        }
      ]
    },
    {
      "cell_type": "markdown",
      "metadata": {
        "id": "pLVx8RUb9TOk",
        "colab_type": "text"
      },
      "source": [
        "### Convolution Layers\n",
        "\n",
        "(tuned with best visual performance)\n",
        "- low-pass convolutional filter (Gaussian)\n",
        "- high-pass filter and gradient (has been represented by canny edge detection above)\n",
        "- shape-sensitive filter (rectangle, octagon)\n",
        "- manhattan kernel based on rectilinear (city-block) distance"
      ]
    },
    {
      "cell_type": "code",
      "metadata": {
        "id": "4l50EZ2v9X-l",
        "colab_type": "code",
        "colab": {}
      },
      "source": [
        "def conv_filter(image):\n",
        "    '''\n",
        "    apply gaussian, octagon, and mangattan convolutional filters to the image\n",
        "    '''\n",
        "    #define filters\n",
        "    #Gaussian\n",
        "    gauss=ee.Kernel.gaussian(radius=7, sigma=2, units='pixels', normalize=True)\n",
        "    # #define a 19 by 11 rectangle low pass filter\n",
        "    # low_pass_rect1 = ee.Kernel.rectangle(xRadius=9,yRadius=5, units='pixels', normalize=True);\n",
        "    # #the opposite way\n",
        "    # low_pass_rect2 = ee.Kernel.rectangle(xRadius=5,yRadius=9, units='pixels', normalize=True);\n",
        "    #octagon\n",
        "    low_oct = ee.Kernel.octagon(radius=5, units='pixels', normalize=True);\n",
        "    #manhattan\n",
        "    manha=ee.Kernel.manhattan(radius=4, units='pixels', normalize=True)\n",
        "    new_image=image\n",
        "    filt_dict={'gauss':gauss,'low_oct':low_oct,'manha':manha}\n",
        "    for name,filt in filt_dict.items():\n",
        "        smooth=image.select(['R','G','B','N']).convolve(filt).rename(['R_'+name,'G_'+name,'B_'+name,'N_'+name])\n",
        "        new_image = new_image.addBands(smooth)\n",
        "    return new_image"
      ],
      "execution_count": null,
      "outputs": []
    },
    {
      "cell_type": "code",
      "metadata": {
        "id": "9h77iXsx9dLf",
        "colab_type": "code",
        "colab": {
          "base_uri": "https://localhost:8080/",
          "height": 54
        },
        "outputId": "b72862db-a36f-45b5-b20d-e2da5724de06"
      },
      "source": [
        "preFire = conv_filter(preFire)\n",
        "postFire = conv_filter(postFire)\n",
        "print(preFire.bandNames().getInfo())"
      ],
      "execution_count": null,
      "outputs": [
        {
          "output_type": "stream",
          "text": [
            "['R', 'G', 'B', 'N', 'NDVI', 'edge', 'BSI', 'SI', 'texture', 'N_corr', 'N_var', 'B_shade', 'N_shade', 'R_gauss', 'G_gauss', 'B_gauss', 'N_gauss', 'R_low_oct', 'G_low_oct', 'B_low_oct', 'N_low_oct', 'R_manha', 'G_manha', 'B_manha', 'N_manha']\n"
          ],
          "name": "stdout"
        }
      ]
    },
    {
      "cell_type": "markdown",
      "metadata": {
        "id": "u4mXrDw0eRc5",
        "colab_type": "text"
      },
      "source": [
        "### Visualize Indices"
      ]
    },
    {
      "cell_type": "code",
      "metadata": {
        "id": "GOfkYQwdkK3O",
        "colab_type": "code",
        "colab": {
          "base_uri": "https://localhost:8080/",
          "height": 732
        },
        "outputId": "3ed2a9d2-ca36-4065-cad0-10dd94147c19"
      },
      "source": [
        "siViz = {'min': 0, 'max': 100, 'palette': ['ffff00', '330033']}\n",
        "bsiViz = {'min': 0.0, 'max': 0.3, 'palette': ['7fffd4', 'b99879']}\n",
        "ndviViz = {'min': -0.5, 'max': 0.5, 'palette': ['cc8e7f', '268b07']}\n",
        "texViz = {'min': 0, 'max': 4000, 'palette': ['fe6b73', '7fffd4']}\n",
        "\n",
        "Map = emap.Map(center=[38.50178453635526,-122.74843617724784], zoom=16)\n",
        "Map.addLayer(preFire.select(['R', 'G', 'B']), trueColorVis, 'preFire')\n",
        "Map.addLayer(preFire.select(['NDVI']),ndviViz, 'NDVI')\n",
        "Map.addLayer(preFire.select(['SI']),siViz, 'SI')\n",
        "Map.addLayer(preFire.select(['edge']),'', 'Canny')\n",
        "Map.addLayer(preFire.select(['BSI']),bsiViz, 'BSI')\n",
        "Map.addLayer(preFire.select(['texture']),texViz, 'texture')\n",
        "Map.addLayer(train_data, {'color': 'yellow'}, 'training')\n",
        "Map.addLayer(test_data, {'color': 'blue'}, 'testing')\n",
        "Map.addLayerControl()\n",
        "Map"
      ],
      "execution_count": null,
      "outputs": [
        {
          "output_type": "execute_result",
          "data": {
            "text/html": [
              "<div style=\"width:100%;\"><div style=\"position:relative;width:100%;height:0;padding-bottom:60%;\"><span style=\"color:#565656\">Make this Notebook Trusted to load map: File -> Trust Notebook</span><iframe src=\"about:blank\" style=\"position:absolute;width:100%;height:100%;left:0;top:0;border:none !important;\" data-html=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 onload=\"this.contentDocument.open();this.contentDocument.write(atob(this.getAttribute('data-html')));this.contentDocument.close();\" allowfullscreen webkitallowfullscreen mozallowfullscreen></iframe></div></div>"
            ],
            "text/plain": [
              "<geemap.eefolium.Map at 0x7fb2fa174d68>"
            ]
          },
          "metadata": {
            "tags": []
          },
          "execution_count": 29
        }
      ]
    },
    {
      "cell_type": "markdown",
      "metadata": {
        "id": "VxN9gDRal2Xu",
        "colab_type": "text"
      },
      "source": [
        "## Unsupervised Methods\n",
        "\n",
        "(1) KMeans Clustering\n",
        "\n",
        "(2) Learning Vector Quantization Clustering (LVQ)\n",
        "\n",
        "(3) KMeans Segmentation \n",
        "\n",
        "(4) Simple Non-Iterative Clustering Segmentation (SNIC)"
      ]
    },
    {
      "cell_type": "markdown",
      "metadata": {
        "id": "Km4mUDhcnmDx",
        "colab_type": "text"
      },
      "source": [
        "### KMeans Clustering"
      ]
    },
    {
      "cell_type": "code",
      "metadata": {
        "id": "ZMUCqv-2l6QV",
        "colab_type": "code",
        "colab": {}
      },
      "source": [
        "bands = ['R', 'G', 'B', 'N', 'NDVI', 'edge', 'BSI', 'SI', 'texture']\n",
        "# Make the training dataset.\n",
        "training = postFire.sample(**{\n",
        "  'region': finalBounds,\n",
        "  'scale': 10,\n",
        "  'numPixels': 5000\n",
        "})\n",
        "\n",
        "# Instantiate the clusterer and train it.\n",
        "clusterer = ee.Clusterer.wekaKMeans(15).train(training)\n",
        "\n",
        "# Cluster the input using the trained clusterer.\n",
        "preFire_result = preFire.cluster(clusterer).rename('KMeans')\n",
        "postFire_result = postFire.cluster(clusterer).rename('KMeans')"
      ],
      "execution_count": null,
      "outputs": []
    },
    {
      "cell_type": "code",
      "metadata": {
        "id": "DnWiolp6jwpn",
        "colab_type": "code",
        "colab": {
          "base_uri": "https://localhost:8080/",
          "height": 54
        },
        "outputId": "0452d235-f4e2-4687-af8c-aac60d400a04"
      },
      "source": [
        "# add KMeans clustering \n",
        "postFire = postFire.addBands(postFire_result)\n",
        "preFire = preFire.addBands(preFire_result)\n",
        "print(postFire.bandNames().getInfo())"
      ],
      "execution_count": null,
      "outputs": [
        {
          "output_type": "stream",
          "text": [
            "['R', 'G', 'B', 'N', 'NDVI', 'edge', 'BSI', 'SI', 'texture', 'N_corr', 'N_var', 'B_shade', 'N_shade', 'R_gauss', 'G_gauss', 'B_gauss', 'N_gauss', 'R_low_oct', 'G_low_oct', 'B_low_oct', 'N_low_oct', 'R_manha', 'G_manha', 'B_manha', 'N_manha', 'LVQ', 'KMeans']\n"
          ],
          "name": "stdout"
        }
      ]
    },
    {
      "cell_type": "code",
      "metadata": {
        "id": "-S_SUpHS2MIE",
        "colab_type": "code",
        "colab": {
          "base_uri": "https://localhost:8080/",
          "height": 732
        },
        "outputId": "c2adb0dd-6da2-425f-fc73-b1c7c3658e6e"
      },
      "source": [
        "Map = emap.Map(center=[38.50178453635526,-122.74843617724784], zoom=19)\n",
        "Map.addLayer(preFire.select(['R', 'G', 'B']), trueColorVis, 'preFire')\n",
        "Map.addLayer(postFire.select(['R', 'G', 'B']), trueColorVis, 'postFire')\n",
        "Map.addLayer(postFire_result.randomVisualizer(),'', 'postFire_Kmeans',opacity=0.6)\n",
        "Map.addLayer(preFire_result.randomVisualizer(),'', 'preFire_Kmeans', opacity=0.6)\n",
        "Map.addLayer(train_data, {'color': 'yellow'}, 'training',opacity=0.4)\n",
        "Map.addLayer(test_data, {'color': 'blue'}, 'testing',opacity=0.4)\n",
        "Map.addLayerControl()\n",
        "Map"
      ],
      "execution_count": null,
      "outputs": [
        {
          "output_type": "execute_result",
          "data": {
            "text/html": [
              "<div style=\"width:100%;\"><div style=\"position:relative;width:100%;height:0;padding-bottom:60%;\"><span style=\"color:#565656\">Make this Notebook Trusted to load map: File -> Trust Notebook</span><iframe src=\"about:blank\" style=\"position:absolute;width:100%;height:100%;left:0;top:0;border:none !important;\" data-html=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 onload=\"this.contentDocument.open();this.contentDocument.write(atob(this.getAttribute('data-html')));this.contentDocument.close();\" allowfullscreen webkitallowfullscreen mozallowfullscreen></iframe></div></div>"
            ],
            "text/plain": [
              "<geemap.eefolium.Map at 0x7fb2fa048a20>"
            ]
          },
          "metadata": {
            "tags": []
          },
          "execution_count": 55
        }
      ]
    },
    {
      "cell_type": "markdown",
      "metadata": {
        "id": "3RCUTKxpf4dS",
        "colab_type": "text"
      },
      "source": [
        "###Learning Vector Quantization (LVQ) Clustering\n",
        "\n",
        "T. Kohonen, \"Learning Vector Quantization\", The Handbook of Brain Theory and Neural Networks, 2nd Edition, MIT Press, 2003, pp. 631-634.\n",
        "\n",
        "**ee.Clusterer.wekaLVQ(numClusters, learningRate, epochs, normalizeInput)**"
      ]
    },
    {
      "cell_type": "code",
      "metadata": {
        "id": "st0Q7lAgf811",
        "colab_type": "code",
        "colab": {}
      },
      "source": [
        "bands = ['R', 'G', 'B', 'N', 'NDVI', 'edge', 'BSI', 'SI', 'texture']\n",
        "\n",
        "# Make the training dataset.\n",
        "training = postFire.select(bands).sample(**{\n",
        "  'region': finalBounds,\n",
        "  'scale': 10,\n",
        "  'numPixels': 5000\n",
        "})\n",
        "\n",
        "# Instantiate the clusterer and train it.\n",
        "clusterer = ee.Clusterer.wekaLVQ(15).train(training)\n",
        "\n",
        "# Cluster the input using the trained clusterer.\n",
        "preFire_result = preFire.select(bands).cluster(clusterer).rename('LVQ')\n",
        "postFire_result = postFire.select(bands).cluster(clusterer).rename('LVQ')"
      ],
      "execution_count": null,
      "outputs": []
    },
    {
      "cell_type": "code",
      "metadata": {
        "id": "tPK144J5hzeg",
        "colab_type": "code",
        "colab": {
          "base_uri": "https://localhost:8080/",
          "height": 54
        },
        "outputId": "510cdefc-62d9-4154-ac05-eedcda7c49d2"
      },
      "source": [
        "# add layer\n",
        "postFire = postFire.addBands(postFire_result)\n",
        "preFire = preFire.addBands(preFire_result)\n",
        "print(postFire.bandNames().getInfo())"
      ],
      "execution_count": null,
      "outputs": [
        {
          "output_type": "stream",
          "text": [
            "['R', 'G', 'B', 'N', 'NDVI', 'edge', 'BSI', 'SI', 'texture', 'N_corr', 'N_var', 'B_shade', 'N_shade', 'R_gauss', 'G_gauss', 'B_gauss', 'N_gauss', 'R_low_oct', 'G_low_oct', 'B_low_oct', 'N_low_oct', 'R_manha', 'G_manha', 'B_manha', 'N_manha', 'LVQ']\n"
          ],
          "name": "stdout"
        }
      ]
    },
    {
      "cell_type": "code",
      "metadata": {
        "id": "cBnTv1vHf86h",
        "colab_type": "code",
        "colab": {
          "base_uri": "https://localhost:8080/",
          "height": 732
        },
        "outputId": "441092e8-ade4-4955-f169-a2fa9a2e94c1"
      },
      "source": [
        "Map = emap.Map(center=[38.50178453635526,-122.74843617724784], zoom=18)\n",
        "Map.addLayer(postFire.select(['R', 'G', 'B']), trueColorVis, 'postFire')\n",
        "Map.addLayer(postFire_result.randomVisualizer(),'', 'postFire_LVQ',opacity=0.6)\n",
        "Map.addLayer(preFire_result.randomVisualizer(),'', 'preFire_LVQ', opacity=0.6)\n",
        "Map.addLayer(train_data, {'color': 'yellow'}, 'training',opacity=0.4)\n",
        "Map.addLayer(test_data, {'color': 'blue'}, 'testing',opacity=0.4)\n",
        "Map.addLayerControl()\n",
        "Map"
      ],
      "execution_count": null,
      "outputs": [
        {
          "output_type": "execute_result",
          "data": {
            "text/html": [
              "<div style=\"width:100%;\"><div style=\"position:relative;width:100%;height:0;padding-bottom:60%;\"><span style=\"color:#565656\">Make this Notebook Trusted to load map: File -> Trust Notebook</span><iframe src=\"about:blank\" style=\"position:absolute;width:100%;height:100%;left:0;top:0;border:none !important;\" data-html=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 onload=\"this.contentDocument.open();this.contentDocument.write(atob(this.getAttribute('data-html')));this.contentDocument.close();\" allowfullscreen webkitallowfullscreen mozallowfullscreen></iframe></div></div>"
            ],
            "text/plain": [
              "<geemap.eefolium.Map at 0x7fb2fa089c50>"
            ]
          },
          "metadata": {
            "tags": []
          },
          "execution_count": 52
        }
      ]
    },
    {
      "cell_type": "markdown",
      "metadata": {
        "id": "oBXeSd0roc7J",
        "colab_type": "text"
      },
      "source": [
        "###  KMeans Segmentation\n",
        "\n",
        "**Description:** Performs K-Means clustering on the input image. Outputs a 1-band image containing the ID of the cluster that each pixel belongs to.\n",
        "\n",
        "<br> \n",
        "**ee.Algorithms.Image.Segmentation.KMeans(image, numClusters, numIterations, neighborhoodSize, gridSize, forceConvergence, uniqueLabels)**\n",
        "\n",
        "\n",
        "*   **numClusters:** Number of clusters.\n",
        "*   **numIterations:** Number of iterations.\n",
        "*   **neighborhoodSize:** The amount to extend each tile (overlap) when computing the clusters. This option is mutually exclusive with gridSize.\n",
        "*   **gridSize:** If greater than 0, kMeans will be run independently on cells of this size. This has the effect of limiting the size of any cluster to be gridSize or smaller. This option is mutually exclusive with neighborhoodSize.\n",
        "*   **forceConvergence:** If true, an error is thrown if convergence is not achieved before numIterations.\n",
        "*   **uniqueLabels:** If true, clusters are assigned unique IDs. Otherwise, they repeat per tile or grid cell."
      ]
    },
    {
      "cell_type": "code",
      "metadata": {
        "id": "kxY1vI40KxNR",
        "colab_type": "code",
        "colab": {}
      },
      "source": [
        "pre_kmeans = ee.Algorithms.Image.Segmentation.KMeans(preFire, 15, 1000, 20, 0, False, False)\n",
        "pre_clusters = pre_kmeans.select('clusters').rename('KMeans_Seg')\n",
        "\n",
        "post_kmeans = ee.Algorithms.Image.Segmentation.KMeans(postFire, 15, 1000, 20,0, False, False)\n",
        "post_clusters = post_kmeans.select('clusters').rename('KMeans_Seg')"
      ],
      "execution_count": null,
      "outputs": []
    },
    {
      "cell_type": "code",
      "metadata": {
        "id": "KlsFSu8Ok7l1",
        "colab_type": "code",
        "colab": {
          "base_uri": "https://localhost:8080/",
          "height": 54
        },
        "outputId": "4f8cff28-2851-4d80-d71d-4265f027a89b"
      },
      "source": [
        "# add layer\n",
        "postFire = postFire.addBands(post_clusters)\n",
        "preFire = preFire.addBands(pre_clusters)\n",
        "print(preFire.bandNames().getInfo())"
      ],
      "execution_count": null,
      "outputs": [
        {
          "output_type": "stream",
          "text": [
            "['R', 'G', 'B', 'N', 'NDVI', 'edge', 'BSI', 'SI', 'texture', 'N_corr', 'N_var', 'B_shade', 'N_shade', 'R_gauss', 'G_gauss', 'B_gauss', 'N_gauss', 'R_low_oct', 'G_low_oct', 'B_low_oct', 'N_low_oct', 'R_manha', 'G_manha', 'B_manha', 'N_manha', 'LVQ', 'KMeans', 'KMeans_Seg']\n"
          ],
          "name": "stdout"
        }
      ]
    },
    {
      "cell_type": "code",
      "metadata": {
        "id": "MHsxUtNjfc25",
        "colab_type": "code",
        "colab": {
          "base_uri": "https://localhost:8080/",
          "height": 732
        },
        "outputId": "b44a39d1-6b23-42d1-cd81-be347268c02c"
      },
      "source": [
        "Map = emap.Map(center=[38.50178453635526,-122.74843617724784], zoom=18)\n",
        "Map.addLayer(preFire.select(['R', 'G', 'B']), trueColorVis, 'preFire')\n",
        "Map.addLayer(postFire.select(['R', 'G', 'B']), trueColorVis, 'postFire')\n",
        "Map.addLayer(pre_clusters.randomVisualizer(),'', 'pre_clusters', opacity=0.6)\n",
        "Map.addLayer(post_clusters.randomVisualizer(),'', 'post_clusters', opacity=0.6)\n",
        "Map.addLayer(train_data, {'color': 'yellow'}, 'training',opacity=0.4)\n",
        "Map.addLayer(test_data, {'color': 'blue'}, 'testing',opacity=0.4)\n",
        "Map.addLayerControl()\n",
        "Map"
      ],
      "execution_count": null,
      "outputs": [
        {
          "output_type": "execute_result",
          "data": {
            "text/html": [
              "<div style=\"width:100%;\"><div style=\"position:relative;width:100%;height:0;padding-bottom:60%;\"><span style=\"color:#565656\">Make this Notebook Trusted to load map: File -> Trust Notebook</span><iframe src=\"about:blank\" style=\"position:absolute;width:100%;height:100%;left:0;top:0;border:none !important;\" data-html=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 onload=\"this.contentDocument.open();this.contentDocument.write(atob(this.getAttribute('data-html')));this.contentDocument.close();\" allowfullscreen webkitallowfullscreen mozallowfullscreen></iframe></div></div>"
            ],
            "text/plain": [
              "<geemap.eefolium.Map at 0x7fb2fa10cb70>"
            ]
          },
          "metadata": {
            "tags": []
          },
          "execution_count": 58
        }
      ]
    },
    {
      "cell_type": "markdown",
      "metadata": {
        "id": "R8_lY3HZLmYP",
        "colab_type": "text"
      },
      "source": [
        "### Simple Non-Iterative Clustering (SNIC) Segmentation\n",
        "\n",
        "**Description:** An improved version of non-parametric SLIC. Superpixel clustering based on SNIC (Simple Non-Iterative Clustering). Outputs a band of cluster IDs and the per-cluster averages for each of the input bands. Outputs a band of cluster IDs and the per-cluster averages for each of the input bands.\n",
        "\n",
        "<br>\n",
        "\n",
        "**ee.Algorithms.Image.Segmentation.SNIC(image, size, compactness, connectivity, neighborhoodSize, seeds)**\n",
        "\n",
        "*   **size:** The superpixel seed location spacing, in pixels. If 'seeds' image is provided, no grid is produced.\n",
        "*   **compactness:** Compactness factor. Larger values cause clusters to be more compact (square). Setting this to 0 disables spatial distance weighting.\n",
        "*   **connectivity:** Connectivity. Either 4 or 8.\n",
        "*   **neighbor:** Tile neighborhood size (to avoid tile boundary artifacts). Defaults to 2 * size.\n",
        "*   **seeds:** If provided, any non-zero valued pixels are used as seed locations. Pixels that touch (as specified by 'connectivity') are considered to belong to the same cluster.\n",
        "\n",
        "\n"
      ]
    },
    {
      "cell_type": "code",
      "metadata": {
        "id": "ShzKuBl_rBSa",
        "colab_type": "code",
        "colab": {}
      },
      "source": [
        "def expandSeeds(seeds): \n",
        "  seeds = seeds.unmask(0).focal_max()\n",
        "  return seeds.updateMask(seeds)"
      ],
      "execution_count": null,
      "outputs": []
    },
    {
      "cell_type": "code",
      "metadata": {
        "id": "NKy_U7t9lzDj",
        "colab_type": "code",
        "colab": {}
      },
      "source": [
        "seeds = ee.Algorithms.Image.Segmentation.seedGrid(30)\n",
        "\n",
        "pre_snic = ee.Algorithms.Image.Segmentation.SNIC(preFire, 30, 15, 8, 200, seeds).select([\"R_mean\", \"G_mean\", \"B_mean\", \"N_mean\", \"clusters\"], [\"R\", \"G\", \"B\", \"N\", \"clusters\"])\n",
        "pre_clusters = pre_snic.select('clusters').rename('SNIC')\n",
        "\n",
        "post_snic = ee.Algorithms.Image.Segmentation.SNIC(postFire, 30, 15, 8)\n",
        "post_clusters = post_snic.select('clusters').rename('SNIC')"
      ],
      "execution_count": null,
      "outputs": []
    },
    {
      "cell_type": "code",
      "metadata": {
        "id": "ST1hXVjklTQb",
        "colab_type": "code",
        "colab": {
          "base_uri": "https://localhost:8080/",
          "height": 54
        },
        "outputId": "8dbdc1d8-3431-443e-949a-16a2e76de0ba"
      },
      "source": [
        "# add layer\n",
        "postFire = postFire.addBands(post_clusters)\n",
        "preFire = preFire.addBands(pre_clusters)\n",
        "print(preFire.bandNames().getInfo())"
      ],
      "execution_count": null,
      "outputs": [
        {
          "output_type": "stream",
          "text": [
            "['R', 'G', 'B', 'N', 'NDVI', 'edge', 'BSI', 'SI', 'texture', 'N_corr', 'N_var', 'B_shade', 'N_shade', 'R_gauss', 'G_gauss', 'B_gauss', 'N_gauss', 'R_low_oct', 'G_low_oct', 'B_low_oct', 'N_low_oct', 'R_manha', 'G_manha', 'B_manha', 'N_manha', 'LVQ', 'KMeans', 'KMeans_Seg', 'SNIC']\n"
          ],
          "name": "stdout"
        }
      ]
    },
    {
      "cell_type": "code",
      "metadata": {
        "id": "HWAaaMwkzGFR",
        "colab_type": "code",
        "colab": {
          "base_uri": "https://localhost:8080/",
          "height": 732
        },
        "outputId": "a3feeea8-ff0e-4421-f891-d26ac7cba457"
      },
      "source": [
        "Map = emap.Map(center=[38.50178453635526,-122.74843617724784], zoom=18)\n",
        "Map.addLayer(pre_clusters.randomVisualizer(),'' , \"clusters\")\n",
        "Map.addLayer(post_clusters.randomVisualizer(),'', 'postFire_SNIC', opacity=0.6)\n",
        "Map.addLayer(expandSeeds(seeds), {}, 'seeds')\n",
        "Map.addLayer(train_data, {'color': 'yellow'}, 'training',opacity=0.4)\n",
        "Map.addLayer(test_data, {'color': 'blue'}, 'testing',opacity=0.4)\n",
        "Map.addLayerControl()\n",
        "Map"
      ],
      "execution_count": null,
      "outputs": [
        {
          "output_type": "execute_result",
          "data": {
            "text/html": [
              "<div style=\"width:100%;\"><div style=\"position:relative;width:100%;height:0;padding-bottom:60%;\"><span style=\"color:#565656\">Make this Notebook Trusted to load map: File -> Trust Notebook</span><iframe src=\"about:blank\" style=\"position:absolute;width:100%;height:100%;left:0;top:0;border:none !important;\" data-html=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 onload=\"this.contentDocument.open();this.contentDocument.write(atob(this.getAttribute('data-html')));this.contentDocument.close();\" allowfullscreen webkitallowfullscreen mozallowfullscreen></iframe></div></div>"
            ],
            "text/plain": [
              "<geemap.eefolium.Map at 0x7fb2fa097080>"
            ]
          },
          "metadata": {
            "tags": []
          },
          "execution_count": 62
        }
      ]
    },
    {
      "cell_type": "markdown",
      "metadata": {
        "id": "-iZyDQ-Yhl5N",
        "colab_type": "text"
      },
      "source": [
        "## Filter Imagery\n",
        "\n",
        "Exclude areas with vegetation i.e. only keeps imagery areas with urban and baresoil "
      ]
    },
    {
      "cell_type": "code",
      "metadata": {
        "id": "s7rb8ONrhtH7",
        "colab_type": "code",
        "colab": {}
      },
      "source": [
        "hansenImage = ee.Image('UMD/hansen/global_forest_change_2015')\n",
        "\n",
        "def applyMask(imageryA, imageryB, hansenImage):\n",
        "  '''\n",
        "  Mask out all vegetation and water from imagery from pre disaster values.\n",
        "  '''\n",
        "  NDVIMaskB = imageryB.select('NDVI').lt(0.005)\n",
        "  dataMask =  hansenImage.select('datamask')\n",
        "  waterMask = dataMask.eq(1)\n",
        "  imageryA = imageryA.updateMask(NDVIMaskB)\n",
        "  new_imagery = imageryA.updateMask(waterMask)\n",
        "  return new_imagery\n",
        "\n",
        "postFire_filt = applyMask(postFire, preFire, hansenImage)"
      ],
      "execution_count": null,
      "outputs": []
    },
    {
      "cell_type": "code",
      "metadata": {
        "id": "sXohvwewiJXl",
        "colab_type": "code",
        "colab": {
          "base_uri": "https://localhost:8080/",
          "height": 732
        },
        "outputId": "731bf0fd-0ac8-4128-d600-7445bd40b374"
      },
      "source": [
        "Map = emap.Map(center=[38.50178453635526,-122.74843617724784], zoom=11)\n",
        "Map.addLayer(postFire_filt.select(['R', 'G', 'B']), trueColorVis, 'postFire')\n",
        "Map.addLayerControl()\n",
        "Map"
      ],
      "execution_count": null,
      "outputs": [
        {
          "output_type": "execute_result",
          "data": {
            "text/html": [
              "<div style=\"width:100%;\"><div style=\"position:relative;width:100%;height:0;padding-bottom:60%;\"><span style=\"color:#565656\">Make this Notebook Trusted to load map: File -> Trust Notebook</span><iframe src=\"about:blank\" style=\"position:absolute;width:100%;height:100%;left:0;top:0;border:none !important;\" data-html=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 onload=\"this.contentDocument.open();this.contentDocument.write(atob(this.getAttribute('data-html')));this.contentDocument.close();\" allowfullscreen webkitallowfullscreen mozallowfullscreen></iframe></div></div>"
            ],
            "text/plain": [
              "<geemap.eefolium.Map at 0x7fb2fa0256d8>"
            ]
          },
          "metadata": {
            "tags": []
          },
          "execution_count": 64
        }
      ]
    },
    {
      "cell_type": "markdown",
      "metadata": {
        "id": "VhBqrf75l_mM",
        "colab_type": "text"
      },
      "source": [
        "## Supervised Classification\n",
        "\n",
        "(1) Train Data\n",
        "\n",
        "(2) CART \n",
        "\n",
        "(3) SVM\n",
        "\n",
        "(4) Random Forest\n"
      ]
    },
    {
      "cell_type": "markdown",
      "metadata": {
        "id": "6YR3ROAPYl8B",
        "colab_type": "text"
      },
      "source": [
        "### Train Data"
      ]
    },
    {
      "cell_type": "code",
      "metadata": {
        "id": "Kas7v6CcljkS",
        "colab_type": "code",
        "colab": {
          "base_uri": "https://localhost:8080/",
          "height": 54
        },
        "outputId": "c6d24a64-c5af-49b2-ea4f-9c2e30d2bc64"
      },
      "source": [
        "# get layer names \n",
        "print(postFire_filt.bandNames().getInfo())"
      ],
      "execution_count": null,
      "outputs": [
        {
          "output_type": "stream",
          "text": [
            "['R', 'G', 'B', 'N', 'NDVI', 'edge', 'BSI', 'SI', 'texture', 'N_corr', 'N_var', 'B_shade', 'N_shade', 'R_gauss', 'G_gauss', 'B_gauss', 'N_gauss', 'R_low_oct', 'G_low_oct', 'B_low_oct', 'N_low_oct', 'R_manha', 'G_manha', 'B_manha', 'N_manha', 'LVQ', 'KMeans', 'KMeans_Seg', 'SNIC']\n"
          ],
          "name": "stdout"
        }
      ]
    },
    {
      "cell_type": "code",
      "metadata": {
        "id": "A_wcJhquYkR0",
        "colab_type": "code",
        "colab": {}
      },
      "source": [
        "bands = ['R', 'G', 'B', 'N', 'NDVI', 'BSI',  # Bands & Indices\n",
        "         'SNIC', # Clustering, Segmentation\n",
        "         'N_corr', 'B_shade', 'B_gauss', # GLCM Texture\n",
        "         'R_manha','R_low_oct'] # Convolution \n",
        "training = postFire_filt.select(bands).sampleRegions(**{\n",
        "  'collection': train_data,\n",
        "  'properties': ['class'],\n",
        "  'scale': 10\n",
        "});"
      ],
      "execution_count": null,
      "outputs": []
    },
    {
      "cell_type": "markdown",
      "metadata": {
        "id": "uMtteYjiSlOI",
        "colab_type": "text"
      },
      "source": [
        "### CART"
      ]
    },
    {
      "cell_type": "markdown",
      "metadata": {
        "id": "AKtYwdo9Cw9g",
        "colab_type": "text"
      },
      "source": [
        "#### Classifier"
      ]
    },
    {
      "cell_type": "code",
      "metadata": {
        "id": "0tLE-yBaSkLG",
        "colab_type": "code",
        "colab": {}
      },
      "source": [
        "# Train a CART classifier with default parameters.\n",
        "classifier = ee.Classifier.smileCart().train(training, 'class', bands);\n",
        "\n",
        "# Classify the image with the same bands used for training.\n",
        "postFire_classified = postFire_filt.select(bands).classify(classifier);\n",
        "#preFire_classified = preFire_filt.select(bands).classify(trained);"
      ],
      "execution_count": null,
      "outputs": []
    },
    {
      "cell_type": "markdown",
      "metadata": {
        "id": "C6sg3QT6VbdB",
        "colab_type": "text"
      },
      "source": [
        "#### Feature Importance"
      ]
    },
    {
      "cell_type": "code",
      "metadata": {
        "id": "FDg_yUrmK1Yy",
        "colab_type": "code",
        "colab": {
          "base_uri": "https://localhost:8080/",
          "height": 255
        },
        "outputId": "286c6eca-5c8b-4e31-8b6a-13036c2a2834"
      },
      "source": [
        "class_explain = classifier.explain()\n",
        "variable_importance = ee.Feature(None, ee.Dictionary(class_explain).get('importance'))\n",
        "variable_importance.getInfo()"
      ],
      "execution_count": null,
      "outputs": [
        {
          "output_type": "execute_result",
          "data": {
            "text/plain": [
              "{'geometry': None,\n",
              " 'properties': {'B': 10.748482429268728,\n",
              "  'BSI': 9.048169912157672,\n",
              "  'B_gauss': 5.455427147196852,\n",
              "  'B_shade': 7.068837282425471,\n",
              "  'G': 13.230428780308069,\n",
              "  'N': 10.53676402984156,\n",
              "  'NDVI': 8.063338542883878,\n",
              "  'N_corr': 7.207145088380324,\n",
              "  'R': 38.042603516187626,\n",
              "  'R_low_oct': 1.176300702671833,\n",
              "  'R_manha': 5.060776101651469,\n",
              "  'SNIC': 9.711472453324498},\n",
              " 'type': 'Feature'}"
            ]
          },
          "metadata": {
            "tags": []
          },
          "execution_count": 115
        }
      ]
    },
    {
      "cell_type": "code",
      "metadata": {
        "id": "_1oa7EzSHBIq",
        "colab_type": "code",
        "colab": {
          "base_uri": "https://localhost:8080/",
          "height": 293
        },
        "outputId": "4b977272-4431-4aec-efe4-6da2d05c693d"
      },
      "source": [
        "import json\n",
        "import matplotlib.pylab as plt\n",
        "import seaborn as sns \n",
        "import pandas.util.testing as tm\n",
        "sns.set(style=\"whitegrid\")\n",
        "sns.set_color_codes(\"pastel\")\n",
        "\n",
        "var_dict = variable_importance.getInfo()\n",
        "\n",
        "lists = sorted(var_dict['properties'].items(), key = lambda kv:(kv[1], kv[0]), reverse=True)\n",
        "var = [i[0] for i in lists]\n",
        "values = [i[1] for i in lists]\n",
        "d = pd.DataFrame({'Variables':var,'Values':values})\n",
        "\n",
        "sns.barplot('Values', 'Variables', data = d, label=\"Variables\", color=\"b\")\n",
        "plt.tight_layout()\n",
        "plt.savefig(\"Figures/CART_feature_imp.png\", dpi=250)"
      ],
      "execution_count": null,
      "outputs": [
        {
          "output_type": "display_data",
          "data": {
            "image/png": "[encoded data removed]",
            "text/plain": [
              "<Figure size 432x288 with 1 Axes>"
            ]
          },
          "metadata": {
            "tags": []
          }
        }
      ]
    },
    {
      "cell_type": "markdown",
      "metadata": {
        "id": "0mJfPEU4C2pR",
        "colab_type": "text"
      },
      "source": [
        "####Validation"
      ]
    },
    {
      "cell_type": "code",
      "metadata": {
        "id": "LxEiiWBFAKCE",
        "colab_type": "code",
        "colab": {}
      },
      "source": [
        "validation = postFire_classified.sampleRegions(**{\n",
        "  'collection': test_data,\n",
        "  'properties': ['class'],\n",
        "  'scale': 10,\n",
        "})\n",
        "\n",
        "testAccuracy = validation.errorMatrix('class', 'classification');"
      ],
      "execution_count": null,
      "outputs": []
    },
    {
      "cell_type": "code",
      "metadata": {
        "id": "o5tSxPBZAFuZ",
        "colab_type": "code",
        "colab": {
          "base_uri": "https://localhost:8080/",
          "height": 85
        },
        "outputId": "3464cc65-6daa-4961-eae4-d35b9f7163e4"
      },
      "source": [
        "print(\"Test Accuracy: \", testAccuracy.accuracy().getInfo())\n",
        "print(\"Kappa Accuracy: \", testAccuracy.kappa().getInfo())\n",
        "print(\"Producer Accuracy: \", testAccuracy.producersAccuracy().getInfo())\n",
        "print(\"Consumers Accuracy(): \", testAccuracy.consumersAccuracy().getInfo())"
      ],
      "execution_count": null,
      "outputs": [
        {
          "output_type": "stream",
          "text": [
            "Test Accuracy:  0.8306339904102291\n",
            "Kappa Accuracy:  0.4481339614555388\n",
            "Producer Accuracy:  [[0.857304146020197], [0.6802263883975946]]\n",
            "Consumers Accuracy():  [[0.9379632171287401, 0.45807527393997144]]\n"
          ],
          "name": "stdout"
        }
      ]
    },
    {
      "cell_type": "markdown",
      "metadata": {
        "id": "5ueRdvFSC8AR",
        "colab_type": "text"
      },
      "source": [
        "#### Classification Visual"
      ]
    },
    {
      "cell_type": "code",
      "metadata": {
        "id": "JAsneFuWS_SK",
        "colab_type": "code",
        "colab": {
          "base_uri": "https://localhost:8080/",
          "height": 732
        },
        "outputId": "00034754-0f59-4656-cac2-08450501664e"
      },
      "source": [
        "class_palette = ['bff7ff','ff9900']\n",
        "\n",
        "Map = emap.Map(center=[38.50178453635526,-122.74843617724784], zoom=11)\n",
        "Map.addLayer(preFire.select(['R', 'G', 'B']), trueColorVis, 'preFire')\n",
        "Map.addLayer(postFire.select(['R', 'G', 'B']), trueColorVis, 'postFire')\n",
        "Map.addLayer(postFire_classified,\n",
        "             {'palette': class_palette, 'min': 0, 'max':1},\n",
        "             'postFire_classification')\n",
        "Map.addLayer(visualizeByAttribute(train_data, 'class'), {'palette': train_palette, 'min': 0, 'max':1}, 'train')\n",
        "Map.addLayer(visualizeByAttribute(test_data, 'class'), {'palette': train_palette,'min': 0, 'max':1}, 'test')\n",
        "Map.addLayerControl()\n",
        "Map"
      ],
      "execution_count": null,
      "outputs": [
        {
          "output_type": "execute_result",
          "data": {
            "text/html": [
              "<div style=\"width:100%;\"><div style=\"position:relative;width:100%;height:0;padding-bottom:60%;\"><span style=\"color:#565656\">Make this Notebook Trusted to load map: File -> Trust Notebook</span><iframe src=\"about:blank\" style=\"position:absolute;width:100%;height:100%;left:0;top:0;border:none !important;\" data-html=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 onload=\"this.contentDocument.open();this.contentDocument.write(atob(this.getAttribute('data-html')));this.contentDocument.close();\" allowfullscreen webkitallowfullscreen mozallowfullscreen></iframe></div></div>"
            ],
            "text/plain": [
              "<geemap.eefolium.Map at 0x7fb2f9301320>"
            ]
          },
          "metadata": {
            "tags": []
          },
          "execution_count": 84
        }
      ]
    },
    {
      "cell_type": "markdown",
      "metadata": {
        "id": "nvGQ15MonyLo",
        "colab_type": "text"
      },
      "source": [
        "### Support Vector Machine"
      ]
    },
    {
      "cell_type": "markdown",
      "metadata": {
        "id": "GBocdORnDvIZ",
        "colab_type": "text"
      },
      "source": [
        "#### Classifier"
      ]
    },
    {
      "cell_type": "code",
      "metadata": {
        "id": "zyeinqLcl98N",
        "colab_type": "code",
        "colab": {}
      },
      "source": [
        "# Create an SVM classifier with custom parameters.\n",
        "classifier = ee.Classifier.libsvm(**{\n",
        "  'kernelType': 'RBF'\n",
        "}).train(training, 'class', bands)\n",
        "\n",
        "# Classify the image.\n",
        "postFire_classified = postFire_filt.select(bands).classify(classifier)"
      ],
      "execution_count": null,
      "outputs": []
    },
    {
      "cell_type": "markdown",
      "metadata": {
        "id": "Sur-PfpiDxWb",
        "colab_type": "text"
      },
      "source": [
        "#### Validation"
      ]
    },
    {
      "cell_type": "code",
      "metadata": {
        "id": "ebci6zNT4T2p",
        "colab_type": "code",
        "colab": {}
      },
      "source": [
        "validation = postFire_classified.sampleRegions(**{\n",
        "  'collection': test_data,\n",
        "  'properties': ['class'],\n",
        "  'scale': 10,\n",
        "})\n",
        "\n",
        "testAccuracy = validation.errorMatrix('class', 'classification');"
      ],
      "execution_count": null,
      "outputs": []
    },
    {
      "cell_type": "code",
      "metadata": {
        "id": "JqUoOcxl9go4",
        "colab_type": "code",
        "colab": {
          "base_uri": "https://localhost:8080/",
          "height": 85
        },
        "outputId": "55422aed-a357-448e-ead2-602e74eac87a"
      },
      "source": [
        "print(\"Test Accuracy: \", testAccuracy.accuracy().getInfo())\n",
        "print(\"Kappa Accuracy: \", testAccuracy.kappa().getInfo())\n",
        "print(\"Producer Accuracy: \", testAccuracy.producersAccuracy().getInfo())\n",
        "print(\"Consumers Accuracy(): \", testAccuracy.consumersAccuracy().getInfo())"
      ],
      "execution_count": null,
      "outputs": [
        {
          "output_type": "stream",
          "text": [
            "Test Accuracy:  0.9042834479111581\n",
            "Kappa Accuracy:  0.5850923650769214\n",
            "Producer Accuracy:  [[0.9904336734693877], [0.48606811145510836]]\n",
            "Consumers Accuracy():  [[0.9034322280395579, 0.9127906976744186]]\n"
          ],
          "name": "stdout"
        }
      ]
    },
    {
      "cell_type": "markdown",
      "metadata": {
        "id": "vf3HuAQOEEiK",
        "colab_type": "text"
      },
      "source": [
        "#### Classification Visual"
      ]
    },
    {
      "cell_type": "code",
      "metadata": {
        "id": "xT5b0xvF0BSi",
        "colab_type": "code",
        "colab": {
          "base_uri": "https://localhost:8080/",
          "height": 444
        },
        "outputId": "da8f2036-1667-4a97-d2f5-84e1e9b356b2"
      },
      "source": [
        "Map = emap.Map(center=[38.50178453635526,-122.74843617724784], zoom=11)\n",
        "Map.addLayer(preFire.select(['R', 'G', 'B']), trueColorVis, 'preFire')\n",
        "Map.addLayer(postFire.select(['R', 'G', 'B']), trueColorVis, 'postFire')\n",
        "Map.addLayer(postFire_classified,\n",
        "             {'palette': class_palette, 'min': 0, 'max':1},\n",
        "             'postFire_classification')\n",
        "Map.addLayer(visualizeByAttribute(train_data, 'class'), {'palette': train_palette, 'min': 0, 'max':1}, 'train')\n",
        "Map.addLayer(visualizeByAttribute(test_data, 'class'), {'palette': train_palette,'min': 0, 'max':1}, 'test')\n",
        "Map.addLayerControl()\n",
        "Map"
      ],
      "execution_count": null,
      "outputs": [
        {
          "output_type": "execute_result",
          "data": {
            "text/html": [
              "<div style=\"width:100%;\"><div style=\"position:relative;width:100%;height:0;padding-bottom:60%;\"><span style=\"color:#565656\">Make this Notebook Trusted to load map: File -> Trust Notebook</span><iframe src=\"about:blank\" style=\"position:absolute;width:100%;height:100%;left:0;top:0;border:none !important;\" data-html=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 onload=\"this.contentDocument.open();this.contentDocument.write(atob(this.getAttribute('data-html')));this.contentDocument.close();\" allowfullscreen webkitallowfullscreen mozallowfullscreen></iframe></div></div>"
            ],
            "text/plain": [
              "<geemap.eefolium.Map at 0x7ff548809ac8>"
            ]
          },
          "metadata": {
            "tags": []
          },
          "execution_count": 62
        }
      ]
    },
    {
      "cell_type": "markdown",
      "metadata": {
        "id": "S8rNGShun1oK",
        "colab_type": "text"
      },
      "source": [
        "### Random Forest\n",
        "\n",
        "ee.Classifier.randomForest(numberOfTrees, variablesPerSplit, minLeafPopulation, bagFraction, outOfBagMode, seed)\n"
      ]
    },
    {
      "cell_type": "markdown",
      "metadata": {
        "id": "dzcJ2zItER97",
        "colab_type": "text"
      },
      "source": [
        "#### Classifier"
      ]
    },
    {
      "cell_type": "code",
      "metadata": {
        "id": "YMQyMiOnNLTF",
        "colab_type": "code",
        "colab": {}
      },
      "source": [
        "# Create an SVM classifier with custom parameters.\n",
        "classifier = ee.Classifier.smileRandomForest(**{\n",
        "  'numberOfTrees': 100\n",
        "}).train(training, 'class', bands)\n",
        "\n",
        "postFire_classified = postFire_filt.select(bands).classify(classifier)"
      ],
      "execution_count": null,
      "outputs": []
    },
    {
      "cell_type": "markdown",
      "metadata": {
        "id": "wnSLtCMVMkKg",
        "colab_type": "text"
      },
      "source": [
        "#### Feature Importance"
      ]
    },
    {
      "cell_type": "code",
      "metadata": {
        "id": "nO5yzCXvJexS",
        "colab_type": "code",
        "colab": {
          "base_uri": "https://localhost:8080/",
          "height": 255
        },
        "outputId": "1b075739-9b07-4ec5-e10a-13cb5d64b086"
      },
      "source": [
        "class_explain = classifier.explain()\n",
        "variable_importance = ee.Feature(None, ee.Dictionary(class_explain).get('importance'))\n",
        "variable_importance.getInfo()"
      ],
      "execution_count": null,
      "outputs": [
        {
          "output_type": "execute_result",
          "data": {
            "text/plain": [
              "{'geometry': None,\n",
              " 'properties': {'B': 3051.4262024613963,\n",
              "  'BSI': 3478.51524258973,\n",
              "  'B_gauss': 3405.550147364182,\n",
              "  'B_shade': 3452.496960129187,\n",
              "  'G': 2710.7155140881073,\n",
              "  'N': 2861.569909222751,\n",
              "  'NDVI': 3296.9396011646686,\n",
              "  'N_corr': 3313.7550618749647,\n",
              "  'R': 2951.1014238023768,\n",
              "  'R_low_oct': 3232.513971385376,\n",
              "  'R_manha': 3247.497763377401,\n",
              "  'SNIC': 3685.8937357707},\n",
              " 'type': 'Feature'}"
            ]
          },
          "metadata": {
            "tags": []
          },
          "execution_count": 121
        }
      ]
    },
    {
      "cell_type": "code",
      "metadata": {
        "id": "jDvcpDYYUjhR",
        "colab_type": "code",
        "colab": {
          "base_uri": "https://localhost:8080/",
          "height": 293
        },
        "outputId": "7970482c-a447-492a-a4ad-ee818af1f8e4"
      },
      "source": [
        "sns.set(style=\"whitegrid\")\n",
        "sns.set_color_codes(\"pastel\")\n",
        "\n",
        "var_dict = variable_importance.getInfo()\n",
        "\n",
        "lists = sorted(var_dict['properties'].items(), key = lambda kv:(kv[1], kv[0]), reverse=True)\n",
        "var = [i[0] for i in lists]\n",
        "values = [i[1] for i in lists]\n",
        "d = pd.DataFrame({'Variables':var,'Values':values})\n",
        "\n",
        "sns.barplot('Values', 'Variables', data = d, label=\"Variables\", color=\"b\")\n",
        "plt.tight_layout()\n",
        "plt.savefig(\"Figures/RF_feature_imp.png\", dpi=250)"
      ],
      "execution_count": null,
      "outputs": [
        {
          "output_type": "display_data",
          "data": {
            "image/png": "[encoded data removed]",
            "text/plain": [
              "<Figure size 432x288 with 1 Axes>"
            ]
          },
          "metadata": {
            "tags": []
          }
        }
      ]
    },
    {
      "cell_type": "markdown",
      "metadata": {
        "id": "j4dXFbu3EWxx",
        "colab_type": "text"
      },
      "source": [
        "####Validation"
      ]
    },
    {
      "cell_type": "code",
      "metadata": {
        "id": "xN6ltlsR98vI",
        "colab_type": "code",
        "colab": {}
      },
      "source": [
        "validation = postFire_classified.sampleRegions(**{\n",
        "  'collection': test_data,\n",
        "  'properties': ['class'],\n",
        "  'scale': 30,\n",
        "})\n",
        "\n",
        "testAccuracy = validation.errorMatrix('class', 'classification');"
      ],
      "execution_count": null,
      "outputs": []
    },
    {
      "cell_type": "code",
      "metadata": {
        "id": "Opg4F8-Utk64",
        "colab_type": "code",
        "colab": {
          "base_uri": "https://localhost:8080/",
          "height": 34
        },
        "outputId": "83af4548-7d43-4d03-8575-ab6579b56980"
      },
      "source": [
        "testAccuracy.array().getInfo()"
      ],
      "execution_count": null,
      "outputs": [
        {
          "output_type": "execute_result",
          "data": {
            "text/plain": [
              "[[1537, 31], [106, 217]]"
            ]
          },
          "metadata": {
            "tags": []
          },
          "execution_count": 94
        }
      ]
    },
    {
      "cell_type": "code",
      "metadata": {
        "id": "8KuNv9oN-ByY",
        "colab_type": "code",
        "colab": {
          "base_uri": "https://localhost:8080/",
          "height": 85
        },
        "outputId": "c776be88-5e65-4558-f85a-15b376ac7bf7"
      },
      "source": [
        "print(\"Test Accuracy: \", testAccuracy.accuracy().getInfo())\n",
        "print(\"Kappa Accuracy: \", testAccuracy.kappa().getInfo())\n",
        "print(\"Producer Accuracy: \", testAccuracy.producersAccuracy().getInfo())\n",
        "print(\"Consumers Accuracy(): \", testAccuracy.consumersAccuracy().getInfo())"
      ],
      "execution_count": null,
      "outputs": [
        {
          "output_type": "stream",
          "text": [
            "Test Accuracy:  0.8968799576943416\n",
            "Kappa Accuracy:  0.5866842718202837\n",
            "Producer Accuracy:  [[0.96875], [0.5479876160990712]]\n",
            "Consumers Accuracy():  [[0.9123123123123124, 0.7831858407079646]]\n"
          ],
          "name": "stdout"
        }
      ]
    },
    {
      "cell_type": "code",
      "metadata": {
        "id": "X8xrvm5PQdQ1",
        "colab_type": "code",
        "colab": {
          "base_uri": "https://localhost:8080/",
          "height": 34
        },
        "outputId": "6eba69d9-5001-44f6-f686-a3208e1a2a0c"
      },
      "source": [
        "accuracy = [] \n",
        "kappa = [] \n",
        "producer = [] \n",
        "consumer = [] \n",
        "scale = [] \n",
        "\n",
        "for i in range (10, 120+1, 10): \n",
        "  print(i)\n",
        "  validation = postFire_classified.sampleRegions(**{\n",
        "    'collection': test_data,\n",
        "    'properties': ['class'],\n",
        "    'scale': i,\n",
        "  })\n",
        "  testAccuracy = validation.errorMatrix('class', 'classification')\n",
        "  accuracy.append(testAccuracy.accuracy().getInfo())\n",
        "  kappa.append(testAccuracy.kappa().getInfo())\n",
        "  producer.append(testAccuracy.producersAccuracy().getInfo())\n",
        "  consumer.append(testAccuracy.consumersAccuracy().getInfo())\n",
        "  scale.append(i)"
      ],
      "execution_count": null,
      "outputs": [
        {
          "output_type": "stream",
          "text": [
            "5\n"
          ],
          "name": "stdout"
        }
      ]
    },
    {
      "cell_type": "code",
      "metadata": {
        "id": "F0jfK8eFhNif",
        "colab_type": "code",
        "colab": {}
      },
      "source": [
        "prod_0 = [i[0] for i in producer]\n",
        "prod_0 = [i[0] for i in prod_0]\n",
        "\n",
        "prod_1 = [i[1] for i in producer]\n",
        "prod_1 = [i[0] for i in prod_1]\n",
        "\n",
        "user_0 = [i[0] for i in consumer]\n",
        "user_0 = [i[0] for i in user_0]\n",
        "\n",
        "user_1 = [i[0] for i in consumer]\n",
        "user_1 = [i[1] for i in user_1]"
      ],
      "execution_count": null,
      "outputs": []
    },
    {
      "cell_type": "code",
      "metadata": {
        "id": "0186m3oZj9_0",
        "colab_type": "code",
        "colab": {}
      },
      "source": [
        "# plot effects of block scales on accuracy assessment \n",
        "data = {'Scale (pixels)': scale, \n",
        "        'Accuracy (%)': accuracy, \n",
        "        'Kappa (%)': kappa,\n",
        "        'Producer (no-damage)': prod_0,\n",
        "        'Producer (damaged)': prod_1,\n",
        "        'User (no-damage)': user_0,\n",
        "        'User (damaged)': user_1,\n",
        "        }\n",
        "scale_scores = pd.DataFrame.from_dict(data)"
      ],
      "execution_count": null,
      "outputs": []
    },
    {
      "cell_type": "code",
      "metadata": {
        "id": "ZLClyNxPlicf",
        "colab_type": "code",
        "colab": {}
      },
      "source": [
        "#scale_scores.to_csv('scale_scores.csv', index=False)\n",
        "scale_scores = pd.read_csv(r'scale_scores.csv', index_col=None)\n",
        "scale_scores = scale_scores[1:]\n",
        "scale_scores"
      ],
      "execution_count": null,
      "outputs": []
    },
    {
      "cell_type": "code",
      "metadata": {
        "id": "fcb_cnkllvxi",
        "colab_type": "code",
        "colab": {}
      },
      "source": [
        "melted = pd.melt(scale_scores, id_vars=['Scale (pixels)'],\n",
        "        value_vars=['Accuracy (%)', 'Kappa (%)',\n",
        "       'Producer (damaged)', 'User (damaged)'],\n",
        "       var_name='Assessment', value_name='Accuracy (%)')\n",
        "melted['Accuracy (%)'] = melted['Accuracy (%)'] * 100\n",
        "melted"
      ],
      "execution_count": null,
      "outputs": []
    },
    {
      "cell_type": "code",
      "metadata": {
        "id": "CGlaY37tgi2c",
        "colab_type": "code",
        "colab": {
          "base_uri": "https://localhost:8080/",
          "height": 285
        },
        "outputId": "df5036da-af10-4475-e154-c93cbc003980"
      },
      "source": [
        "import seaborn as sns\n",
        "import matplotlib.pylab as plt\n",
        "sns.set(style=\"ticks\")\n",
        "colors = [\"#f684a0\", \"#df6748\", \"#84a0f6\", \"#534c5c\"]\n",
        "sns.set_color_codes(\"pastel\")\n",
        "sns.scatterplot(x=\"Scale (pixels)\", y=\"Accuracy (%)\", hue = 'Assessment',\n",
        "             style = 'Assessment',data=melted, \n",
        "             palette = sns.color_palette(colors))\n",
        "sns.lineplot(x=\"Scale (pixels)\", y=\"Accuracy (%)\", hue = 'Assessment',\n",
        "             style = 'Assessment',data=melted, \n",
        "             palette = sns.color_palette(colors), legend=False)\n",
        "plt.savefig(\"Figures/RF_scale_accuracy.png\", dpi=250)"
      ],
      "execution_count": null,
      "outputs": [
        {
          "output_type": "display_data",
          "data": {
            "image/png": "[encoded data removed]",
            "text/plain": [
              "<Figure size 432x288 with 1 Axes>"
            ]
          },
          "metadata": {
            "tags": []
          }
        }
      ]
    },
    {
      "cell_type": "markdown",
      "metadata": {
        "id": "o8oiQsgnEZHg",
        "colab_type": "text"
      },
      "source": [
        "#### Classification Visual"
      ]
    },
    {
      "cell_type": "code",
      "metadata": {
        "id": "F89kIkZZooEx",
        "colab_type": "code",
        "colab": {
          "base_uri": "https://localhost:8080/",
          "height": 444
        },
        "outputId": "1127cd36-19f5-46d2-fc64-5563f7cd6be2"
      },
      "source": [
        "class_palette = ['bff7ff','ff9900']\n",
        "\n",
        "Map = emap.Map(center=[38.50178453635526,-122.74843617724784], zoom=11)\n",
        "Map.addLayer(preFire.select(['R', 'G', 'B']), trueColorVis, 'preFire')\n",
        "Map.addLayer(postFire.select(['R', 'G', 'B']), trueColorVis, 'postFire')\n",
        "Map.addLayer(postFire_classified,\n",
        "             {'palette': class_palette, 'min': 0, 'max':1},\n",
        "             'postFire_classification')\n",
        "\n",
        "Map.addLayer(visualizeByAttribute(train_data, 'class'), {'palette': train_palette, 'min': 0, 'max':1}, 'train')\n",
        "Map.addLayer(visualizeByAttribute(test_data, 'class'), {'palette': train_palette,'min': 0, 'max':1}, 'test')\n",
        "Map.addLayerControl()\n",
        "Map"
      ],
      "execution_count": null,
      "outputs": [
        {
          "output_type": "execute_result",
          "data": {
            "text/html": [
              "<div style=\"width:100%;\"><div style=\"position:relative;width:100%;height:0;padding-bottom:60%;\"><span style=\"color:#565656\">Make this Notebook Trusted to load map: File -> Trust Notebook</span><iframe src=\"about:blank\" style=\"position:absolute;width:100%;height:100%;left:0;top:0;border:none !important;\" data-html=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 onload=\"this.contentDocument.open();this.contentDocument.write(atob(this.getAttribute('data-html')));this.contentDocument.close();\" allowfullscreen webkitallowfullscreen mozallowfullscreen></iframe></div></div>"
            ],
            "text/plain": [
              "<geemap.eefolium.Map at 0x7fb2f910ac18>"
            ]
          },
          "metadata": {
            "tags": []
          },
          "execution_count": 96
        }
      ]
    },
    {
      "cell_type": "markdown",
      "metadata": {
        "id": "aYIUqC52lNW_",
        "colab_type": "text"
      },
      "source": [
        "## Image Extraction\n",
        "\n",
        "To run xgboost and neural networks locally, extract images by building polygons from the GEE API. Extracted images (with all features) will be saved in Google Drive. Reading these extracted images as well as training XGBoost and Neural Net will be run in seperate jupyter notebooks.\n",
        "<br>__output images will have all 43 features at a resolutoin of 1 meter__\n",
        "\n",
        "<br>To reduce image size (due to the expot limit from GEE API):\n",
        "<br>Each polygon converted from XView annotations has recorded its original image ID. Based on these, for each id, clip the pre- and post- images respectively by polygons with the same id**\n",
        "<br>**The output image would roughly be in the same extent as its original image"
      ]
    },
    {
      "cell_type": "code",
      "metadata": {
        "id": "evOHvb4IlNtP",
        "colab_type": "code",
        "colab": {}
      },
      "source": [
        "#make sure all features (each band of the image has the same data type)\n",
        "preFire=ee.Image.float(preFire) \n",
        "postFire=ee.Image.float(postFire) "
      ],
      "execution_count": null,
      "outputs": []
    },
    {
      "cell_type": "code",
      "metadata": {
        "id": "9OutbvGflSrM",
        "colab_type": "code",
        "colab": {}
      },
      "source": [
        "#The whole pre- and post- images include two seperate areas, first use geo dataframe to subset Santa Rosa\n",
        "#Santa Rosa\n",
        "train_data_SR=train_data.filter(ee.Filter.eq('location_n', 'santa-rosa-wildfire'))\n",
        "santaRosa = gdf.query(\"location_n == 'santa-rosa-wildfire'\")\n",
        "ID_list=santaRosa.ID.unique()\n",
        "#convert ground truth polygons to image\n",
        "SR_true_pre = ee.Image.byte(train_data_SR.filter(ee.Filter.eq('pre_post_d','pre')).reduceToImage(properties=['dmg_code'],reducer=ee.Reducer.first()))\n",
        "SR_true_post = ee.Image.byte(train_data_SR.filter(ee.Filter.eq('pre_post_d','post')).reduceToImage(properties=['dmg_code'],reducer=ee.Reducer.first()))"
      ],
      "execution_count": null,
      "outputs": []
    },
    {
      "cell_type": "code",
      "metadata": {
        "id": "fPmT9bJBlUQ0",
        "colab_type": "code",
        "colab": {}
      },
      "source": [
        "#use the export function from GEE API to save both pre- and post-fire features and ground truth images\n",
        "for index in ID_list:\n",
        "    try:\n",
        "        image_ROI=train_data_SR.filter(ee.Filter.eq('ID', index))\n",
        "        #post\n",
        "        ROI_shp=santaRosa[(santaRosa['ID']==index)&(santaRosa['pre_post_d']=='post')]\n",
        "        image_bound=ee.Geometry.Polygon(get_bounds(ROI_shp))\n",
        "        task1=ee.batch.Export.image.toDrive(image=postFire, description='post_'+index, folder='NAIP_img_new', region=image_bound, scale=1)\n",
        "        task2=ee.batch.Export.image.toDrive(image=SR_true_post, description='post_'+index+'gt', folder='NAIP_img_new', region=image_bound, scale=1)\n",
        "        task1.start()\n",
        "        task2.start()\n",
        "        #print(task2.status())\n",
        "        #pre\n",
        "        ROI_shp=santaRosa[(santaRosa['ID']==index)&(santaRosa['pre_post_d']=='pre')]\n",
        "        image_bound=ee.Geometry.Polygon(get_bounds(ROI_shp))\n",
        "        task3=ee.batch.Export.image.toDrive(image=preFire, description='pre_'+index, folder='NAIP_img_new', region=image_bound, scale=1)\n",
        "        task4=ee.batch.Export.image.toDrive(image=SR_true_pre, description='pre_'+index+'gt', folder='NAIP_img_new', region=image_bound, scale=1)\n",
        "        task3.start()\n",
        "        task4.start()\n",
        "        #print(task3.status())\n",
        "        #if index=='00000376':\n",
        "        #    print('done!')\n",
        "    except:\n",
        "        continue"
      ],
      "execution_count": null,
      "outputs": []
    },
    {
      "cell_type": "code",
      "metadata": {
        "id": "kV_0TdcQlWlj",
        "colab_type": "code",
        "colab": {}
      },
      "source": [
        ""
      ],
      "execution_count": null,
      "outputs": []
    }
  ]
}